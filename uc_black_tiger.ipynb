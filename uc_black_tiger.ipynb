{
 "cells": [
  {
   "cell_type": "code",
   "execution_count": 9,
   "id": "47181978",
   "metadata": {},
   "outputs": [],
   "source": [
    "import pandas as pd"
   ]
  },
  {
   "cell_type": "markdown",
   "id": "51592d8b",
   "metadata": {},
   "source": [
    "### Adresses"
   ]
  },
  {
   "cell_type": "code",
   "execution_count": 10,
   "id": "0db84a05",
   "metadata": {},
   "outputs": [],
   "source": [
    "col_adr_i = [(0,2), (2,5), (13,20),\n",
    "            (110,135), (257,262), (165,190), (160,165),\n",
    "            (262,263), (263,267), (268,272)]"
   ]
  },
  {
   "cell_type": "code",
   "execution_count": 11,
   "id": "65c7c950",
   "metadata": {},
   "outputs": [],
   "source": [
    "col_adr_n = [\"code province\", \"code commune\", \"code unité pop\",\n",
    "            \"entité singulière\", \"code postal\", \"nom abrégé voie\",\"code voie\",\n",
    "            \"type num\", \"début num\", \"fin num\"]"
   ]
  },
  {
   "cell_type": "code",
   "execution_count": 12,
   "id": "e2af7205",
   "metadata": {},
   "outputs": [],
   "source": [
    "adr_p02 = r\"P02\\TRAM.P02.D240630.G240703\" # P02\n",
    "adr_all = r\"caj_esp_072024\\TRAM.P01-52.D240630.G240703\" #  P01-52"
   ]
  },
  {
   "cell_type": "code",
   "execution_count": 13,
   "id": "e3cd6896",
   "metadata": {},
   "outputs": [],
   "source": [
    "adr = pd.read_fwf(adr_all, colspecs=col_adr_i, header=None, encoding='ISO-8859-1', dtype=str)"
   ]
  },
  {
   "cell_type": "code",
   "execution_count": 14,
   "id": "e0f6be4c",
   "metadata": {},
   "outputs": [],
   "source": [
    "adr.columns = col_adr_n"
   ]
  },
  {
   "cell_type": "code",
   "execution_count": 15,
   "id": "5a2d796f",
   "metadata": {
    "scrolled": false
   },
   "outputs": [
    {
     "data": {
      "text/html": [
       "<div>\n",
       "<style scoped>\n",
       "    .dataframe tbody tr th:only-of-type {\n",
       "        vertical-align: middle;\n",
       "    }\n",
       "\n",
       "    .dataframe tbody tr th {\n",
       "        vertical-align: top;\n",
       "    }\n",
       "\n",
       "    .dataframe thead th {\n",
       "        text-align: right;\n",
       "    }\n",
       "</style>\n",
       "<table border=\"1\" class=\"dataframe\">\n",
       "  <thead>\n",
       "    <tr style=\"text-align: right;\">\n",
       "      <th></th>\n",
       "      <th>code province</th>\n",
       "      <th>code commune</th>\n",
       "      <th>code unité pop</th>\n",
       "      <th>entité singulière</th>\n",
       "      <th>code postal</th>\n",
       "      <th>nom abrégé voie</th>\n",
       "      <th>code voie</th>\n",
       "      <th>type num</th>\n",
       "      <th>début num</th>\n",
       "      <th>fin num</th>\n",
       "    </tr>\n",
       "  </thead>\n",
       "  <tbody>\n",
       "    <tr>\n",
       "      <th>0</th>\n",
       "      <td>01</td>\n",
       "      <td>001</td>\n",
       "      <td>0001701</td>\n",
       "      <td>ALEGRIA-DULANTZI</td>\n",
       "      <td>01240</td>\n",
       "      <td>TORRONDOA</td>\n",
       "      <td>01001</td>\n",
       "      <td>1</td>\n",
       "      <td>0001</td>\n",
       "      <td>0027</td>\n",
       "    </tr>\n",
       "    <tr>\n",
       "      <th>1</th>\n",
       "      <td>01</td>\n",
       "      <td>001</td>\n",
       "      <td>0001701</td>\n",
       "      <td>ALEGRIA-DULANTZI</td>\n",
       "      <td>01240</td>\n",
       "      <td>AÑUA BIDEA</td>\n",
       "      <td>01002</td>\n",
       "      <td>1</td>\n",
       "      <td>0009</td>\n",
       "      <td>0039</td>\n",
       "    </tr>\n",
       "    <tr>\n",
       "      <th>2</th>\n",
       "      <td>01</td>\n",
       "      <td>001</td>\n",
       "      <td>0001701</td>\n",
       "      <td>ALEGRIA-DULANTZI</td>\n",
       "      <td>01240</td>\n",
       "      <td>AÑUA BIDEA</td>\n",
       "      <td>01002</td>\n",
       "      <td>2</td>\n",
       "      <td>0004</td>\n",
       "      <td>0024</td>\n",
       "    </tr>\n",
       "    <tr>\n",
       "      <th>3</th>\n",
       "      <td>01</td>\n",
       "      <td>001</td>\n",
       "      <td>0001701</td>\n",
       "      <td>ALEGRIA-DULANTZI</td>\n",
       "      <td>01240</td>\n",
       "      <td>GOIKOLANDA</td>\n",
       "      <td>01003</td>\n",
       "      <td>2</td>\n",
       "      <td>0002</td>\n",
       "      <td>0010</td>\n",
       "    </tr>\n",
       "    <tr>\n",
       "      <th>4</th>\n",
       "      <td>01</td>\n",
       "      <td>001</td>\n",
       "      <td>0001701</td>\n",
       "      <td>ALEGRIA-DULANTZI</td>\n",
       "      <td>01240</td>\n",
       "      <td>TORREALDEA</td>\n",
       "      <td>01004</td>\n",
       "      <td>1</td>\n",
       "      <td>0005</td>\n",
       "      <td>0005</td>\n",
       "    </tr>\n",
       "  </tbody>\n",
       "</table>\n",
       "</div>"
      ],
      "text/plain": [
       "  code province code commune code unité pop entité singulière code postal  \\\n",
       "0            01          001        0001701  ALEGRIA-DULANTZI       01240   \n",
       "1            01          001        0001701  ALEGRIA-DULANTZI       01240   \n",
       "2            01          001        0001701  ALEGRIA-DULANTZI       01240   \n",
       "3            01          001        0001701  ALEGRIA-DULANTZI       01240   \n",
       "4            01          001        0001701  ALEGRIA-DULANTZI       01240   \n",
       "\n",
       "  nom abrégé voie code voie type num début num fin num  \n",
       "0       TORRONDOA     01001        1      0001    0027  \n",
       "1      AÑUA BIDEA     01002        1      0009    0039  \n",
       "2      AÑUA BIDEA     01002        2      0004    0024  \n",
       "3      GOIKOLANDA     01003        2      0002    0010  \n",
       "4      TORREALDEA     01004        1      0005    0005  "
      ]
     },
     "execution_count": 15,
     "metadata": {},
     "output_type": "execute_result"
    }
   ],
   "source": [
    "adr.head()"
   ]
  },
  {
   "cell_type": "markdown",
   "id": "ea875b34",
   "metadata": {},
   "source": [
    "### Noms de voies"
   ]
  },
  {
   "cell_type": "code",
   "execution_count": 16,
   "id": "20e93c2e",
   "metadata": {},
   "outputs": [],
   "source": [
    "cols_vias_i = [(0,2), (2,5), (22,27), (27,32), \n",
    "               (32,33), (33,83), (83,108)]"
   ]
  },
  {
   "cell_type": "code",
   "execution_count": 17,
   "id": "3363edc4",
   "metadata": {},
   "outputs": [],
   "source": [
    "cols_vias_n = [\"code province\", \"code commune\", \"code voie\", \n",
    "               \"type de voie\", \"pos type voie\", \"nom de voie\", \"nom court\"]"
   ]
  },
  {
   "cell_type": "code",
   "execution_count": 18,
   "id": "c70ef6d6",
   "metadata": {},
   "outputs": [],
   "source": [
    "vias_p02 = r\"P02\\VIAS.P02.D240630.G240703\" # P02\n",
    "vias_all = r\"caj_esp_072024\\VIAS.P01-52.D240630.G240703\" # P01-52"
   ]
  },
  {
   "cell_type": "code",
   "execution_count": 19,
   "id": "ac0d6b7b",
   "metadata": {},
   "outputs": [],
   "source": [
    "vias = pd.read_fwf(vias_all, colspecs=cols_vias_i, header=None, encoding='ISO-8859-1', dtype=str)"
   ]
  },
  {
   "cell_type": "code",
   "execution_count": 20,
   "id": "8d4bc4e7",
   "metadata": {},
   "outputs": [],
   "source": [
    "vias.columns = cols_vias_n"
   ]
  },
  {
   "cell_type": "code",
   "execution_count": 21,
   "id": "5dfb50ed",
   "metadata": {
    "scrolled": false
   },
   "outputs": [
    {
     "data": {
      "text/html": [
       "<div>\n",
       "<style scoped>\n",
       "    .dataframe tbody tr th:only-of-type {\n",
       "        vertical-align: middle;\n",
       "    }\n",
       "\n",
       "    .dataframe tbody tr th {\n",
       "        vertical-align: top;\n",
       "    }\n",
       "\n",
       "    .dataframe thead th {\n",
       "        text-align: right;\n",
       "    }\n",
       "</style>\n",
       "<table border=\"1\" class=\"dataframe\">\n",
       "  <thead>\n",
       "    <tr style=\"text-align: right;\">\n",
       "      <th></th>\n",
       "      <th>code province</th>\n",
       "      <th>code commune</th>\n",
       "      <th>code voie</th>\n",
       "      <th>type de voie</th>\n",
       "      <th>pos type voie</th>\n",
       "      <th>nom de voie</th>\n",
       "      <th>nom court</th>\n",
       "    </tr>\n",
       "  </thead>\n",
       "  <tbody>\n",
       "    <tr>\n",
       "      <th>0</th>\n",
       "      <td>01</td>\n",
       "      <td>001</td>\n",
       "      <td>01001</td>\n",
       "      <td>KALE</td>\n",
       "      <td>0</td>\n",
       "      <td>TORRONDOA</td>\n",
       "      <td>TORRONDOA</td>\n",
       "    </tr>\n",
       "    <tr>\n",
       "      <th>1</th>\n",
       "      <td>01</td>\n",
       "      <td>001</td>\n",
       "      <td>01002</td>\n",
       "      <td>KALE</td>\n",
       "      <td>0</td>\n",
       "      <td>AÑUA BIDEA</td>\n",
       "      <td>AÑUA BIDEA</td>\n",
       "    </tr>\n",
       "    <tr>\n",
       "      <th>2</th>\n",
       "      <td>01</td>\n",
       "      <td>001</td>\n",
       "      <td>01003</td>\n",
       "      <td>KALE</td>\n",
       "      <td>0</td>\n",
       "      <td>GOIKOLANDA</td>\n",
       "      <td>GOIKOLANDA</td>\n",
       "    </tr>\n",
       "    <tr>\n",
       "      <th>3</th>\n",
       "      <td>01</td>\n",
       "      <td>001</td>\n",
       "      <td>01004</td>\n",
       "      <td>KALE</td>\n",
       "      <td>0</td>\n",
       "      <td>TORREALDEA</td>\n",
       "      <td>TORREALDEA</td>\n",
       "    </tr>\n",
       "    <tr>\n",
       "      <th>4</th>\n",
       "      <td>01</td>\n",
       "      <td>001</td>\n",
       "      <td>01005</td>\n",
       "      <td>CALLE</td>\n",
       "      <td>0</td>\n",
       "      <td>NUESTRA SEÑORA DE AIALA</td>\n",
       "      <td>NUESTRA SEÑORA DE AIALA</td>\n",
       "    </tr>\n",
       "  </tbody>\n",
       "</table>\n",
       "</div>"
      ],
      "text/plain": [
       "  code province code commune code voie type de voie pos type voie  \\\n",
       "0            01          001     01001         KALE             0   \n",
       "1            01          001     01002         KALE             0   \n",
       "2            01          001     01003         KALE             0   \n",
       "3            01          001     01004         KALE             0   \n",
       "4            01          001     01005        CALLE             0   \n",
       "\n",
       "               nom de voie                nom court  \n",
       "0                TORRONDOA                TORRONDOA  \n",
       "1               AÑUA BIDEA               AÑUA BIDEA  \n",
       "2               GOIKOLANDA               GOIKOLANDA  \n",
       "3               TORREALDEA               TORREALDEA  \n",
       "4  NUESTRA SEÑORA DE AIALA  NUESTRA SEÑORA DE AIALA  "
      ]
     },
     "execution_count": 21,
     "metadata": {},
     "output_type": "execute_result"
    }
   ],
   "source": [
    "vias.head()"
   ]
  },
  {
   "cell_type": "markdown",
   "id": "d1b873f7",
   "metadata": {},
   "source": [
    "### préparation corpus"
   ]
  },
  {
   "cell_type": "code",
   "execution_count": 22,
   "id": "4c665165",
   "metadata": {},
   "outputs": [],
   "source": [
    "adr_m_vias = pd.merge(adr, vias, on=[\"code province\", \"code commune\", \"code voie\"])"
   ]
  },
  {
   "cell_type": "code",
   "execution_count": 23,
   "id": "bd39a658",
   "metadata": {},
   "outputs": [],
   "source": [
    "adr_m_vias[\"fin num\"] = adr_m_vias[\"fin num\"].astype(int)\n",
    "adr_m_vias[\"fin num\"] = adr_m_vias[\"fin num\"].astype(str)"
   ]
  },
  {
   "cell_type": "code",
   "execution_count": 24,
   "id": "9bc72f98",
   "metadata": {},
   "outputs": [],
   "source": [
    "adr_m_vias[\"adresses\"] = (adr_m_vias[\"fin num\"]+\"<>\"+\n",
    "                         adr_m_vias[\"type de voie\"]+\" \"+\n",
    "                         adr_m_vias[\"nom de voie\"]+\"<>\"+\n",
    "                         adr_m_vias[\"code postal\"]+\"<>\"+\n",
    "                         adr_m_vias[\"entité singulière\"])"
   ]
  },
  {
   "cell_type": "code",
   "execution_count": 25,
   "id": "c7035f66",
   "metadata": {},
   "outputs": [],
   "source": [
    "adr_m_vias[\"labels\"] = \"num rue cp ville\""
   ]
  },
  {
   "cell_type": "code",
   "execution_count": 26,
   "id": "521e344d",
   "metadata": {
    "scrolled": true
   },
   "outputs": [
    {
     "data": {
      "text/html": [
       "<div>\n",
       "<style scoped>\n",
       "    .dataframe tbody tr th:only-of-type {\n",
       "        vertical-align: middle;\n",
       "    }\n",
       "\n",
       "    .dataframe tbody tr th {\n",
       "        vertical-align: top;\n",
       "    }\n",
       "\n",
       "    .dataframe thead th {\n",
       "        text-align: right;\n",
       "    }\n",
       "</style>\n",
       "<table border=\"1\" class=\"dataframe\">\n",
       "  <thead>\n",
       "    <tr style=\"text-align: right;\">\n",
       "      <th></th>\n",
       "      <th>fin num</th>\n",
       "      <th>type de voie</th>\n",
       "      <th>nom de voie</th>\n",
       "      <th>code postal</th>\n",
       "      <th>entité singulière</th>\n",
       "      <th>adresses</th>\n",
       "      <th>labels</th>\n",
       "    </tr>\n",
       "  </thead>\n",
       "  <tbody>\n",
       "    <tr>\n",
       "      <th>0</th>\n",
       "      <td>27</td>\n",
       "      <td>KALE</td>\n",
       "      <td>TORRONDOA</td>\n",
       "      <td>01240</td>\n",
       "      <td>ALEGRIA-DULANTZI</td>\n",
       "      <td>27&lt;&gt;KALE TORRONDOA&lt;&gt;01240&lt;&gt;ALEGRIA-DULANTZI</td>\n",
       "      <td>num rue cp ville</td>\n",
       "    </tr>\n",
       "    <tr>\n",
       "      <th>1</th>\n",
       "      <td>39</td>\n",
       "      <td>KALE</td>\n",
       "      <td>AÑUA BIDEA</td>\n",
       "      <td>01240</td>\n",
       "      <td>ALEGRIA-DULANTZI</td>\n",
       "      <td>39&lt;&gt;KALE AÑUA BIDEA&lt;&gt;01240&lt;&gt;ALEGRIA-DULANTZI</td>\n",
       "      <td>num rue cp ville</td>\n",
       "    </tr>\n",
       "    <tr>\n",
       "      <th>2</th>\n",
       "      <td>24</td>\n",
       "      <td>KALE</td>\n",
       "      <td>AÑUA BIDEA</td>\n",
       "      <td>01240</td>\n",
       "      <td>ALEGRIA-DULANTZI</td>\n",
       "      <td>24&lt;&gt;KALE AÑUA BIDEA&lt;&gt;01240&lt;&gt;ALEGRIA-DULANTZI</td>\n",
       "      <td>num rue cp ville</td>\n",
       "    </tr>\n",
       "    <tr>\n",
       "      <th>3</th>\n",
       "      <td>10</td>\n",
       "      <td>KALE</td>\n",
       "      <td>GOIKOLANDA</td>\n",
       "      <td>01240</td>\n",
       "      <td>ALEGRIA-DULANTZI</td>\n",
       "      <td>10&lt;&gt;KALE GOIKOLANDA&lt;&gt;01240&lt;&gt;ALEGRIA-DULANTZI</td>\n",
       "      <td>num rue cp ville</td>\n",
       "    </tr>\n",
       "    <tr>\n",
       "      <th>4</th>\n",
       "      <td>5</td>\n",
       "      <td>KALE</td>\n",
       "      <td>TORREALDEA</td>\n",
       "      <td>01240</td>\n",
       "      <td>ALEGRIA-DULANTZI</td>\n",
       "      <td>5&lt;&gt;KALE TORREALDEA&lt;&gt;01240&lt;&gt;ALEGRIA-DULANTZI</td>\n",
       "      <td>num rue cp ville</td>\n",
       "    </tr>\n",
       "  </tbody>\n",
       "</table>\n",
       "</div>"
      ],
      "text/plain": [
       "  fin num type de voie nom de voie code postal entité singulière  \\\n",
       "0      27         KALE   TORRONDOA       01240  ALEGRIA-DULANTZI   \n",
       "1      39         KALE  AÑUA BIDEA       01240  ALEGRIA-DULANTZI   \n",
       "2      24         KALE  AÑUA BIDEA       01240  ALEGRIA-DULANTZI   \n",
       "3      10         KALE  GOIKOLANDA       01240  ALEGRIA-DULANTZI   \n",
       "4       5         KALE  TORREALDEA       01240  ALEGRIA-DULANTZI   \n",
       "\n",
       "                                       adresses            labels  \n",
       "0   27<>KALE TORRONDOA<>01240<>ALEGRIA-DULANTZI  num rue cp ville  \n",
       "1  39<>KALE AÑUA BIDEA<>01240<>ALEGRIA-DULANTZI  num rue cp ville  \n",
       "2  24<>KALE AÑUA BIDEA<>01240<>ALEGRIA-DULANTZI  num rue cp ville  \n",
       "3  10<>KALE GOIKOLANDA<>01240<>ALEGRIA-DULANTZI  num rue cp ville  \n",
       "4   5<>KALE TORREALDEA<>01240<>ALEGRIA-DULANTZI  num rue cp ville  "
      ]
     },
     "execution_count": 26,
     "metadata": {},
     "output_type": "execute_result"
    }
   ],
   "source": [
    "adr_m_vias[[\"fin num\", \"type de voie\", \"nom de voie\", \n",
    "            \"code postal\", \"entité singulière\", \"adresses\", \"labels\"]].head()"
   ]
  },
  {
   "cell_type": "markdown",
   "id": "1c60f6eb",
   "metadata": {},
   "source": [
    "### sélection corpus"
   ]
  },
  {
   "cell_type": "code",
   "execution_count": 28,
   "id": "0c1f0295",
   "metadata": {},
   "outputs": [],
   "source": [
    "corpus_size = len(adr_m_vias)\n",
    "corpus_adr = adr_m_vias[\"adresses\"][:corpus_size].copy()\n",
    "corpus_lab = adr_m_vias[\"labels\"][:corpus_size].copy()"
   ]
  },
  {
   "cell_type": "code",
   "execution_count": 29,
   "id": "1e438ecb",
   "metadata": {},
   "outputs": [
    {
     "data": {
      "text/plain": [
       "0     27<>KALE TORRONDOA<>01240<>ALEGRIA-DULANTZI\n",
       "1    39<>KALE AÑUA BIDEA<>01240<>ALEGRIA-DULANTZI\n",
       "2    24<>KALE AÑUA BIDEA<>01240<>ALEGRIA-DULANTZI\n",
       "3    10<>KALE GOIKOLANDA<>01240<>ALEGRIA-DULANTZI\n",
       "4     5<>KALE TORREALDEA<>01240<>ALEGRIA-DULANTZI\n",
       "Name: adresses, dtype: object"
      ]
     },
     "execution_count": 29,
     "metadata": {},
     "output_type": "execute_result"
    }
   ],
   "source": [
    "corpus_adr.head()"
   ]
  },
  {
   "cell_type": "code",
   "execution_count": 30,
   "id": "62c5a912",
   "metadata": {
    "scrolled": true
   },
   "outputs": [
    {
     "data": {
      "text/plain": [
       "0    num rue cp ville\n",
       "1    num rue cp ville\n",
       "2    num rue cp ville\n",
       "3    num rue cp ville\n",
       "4    num rue cp ville\n",
       "Name: labels, dtype: object"
      ]
     },
     "execution_count": 30,
     "metadata": {},
     "output_type": "execute_result"
    }
   ],
   "source": [
    "corpus_lab.head()"
   ]
  },
  {
   "cell_type": "markdown",
   "id": "f68c53c5",
   "metadata": {},
   "source": [
    "### ajout variabilité dans les données"
   ]
  },
  {
   "cell_type": "code",
   "execution_count": 31,
   "id": "faf30f10",
   "metadata": {},
   "outputs": [],
   "source": [
    "def t(x):\n",
    "    # inversion du numéro de rue et du nom de rue\n",
    "    x=x.split(\"<>\")\n",
    "    num, rue = x[0], x[1]\n",
    "    x[0], x[1] = rue, num\n",
    "    return \"<>\".join(x)"
   ]
  },
  {
   "cell_type": "code",
   "execution_count": 32,
   "id": "27c6840d",
   "metadata": {},
   "outputs": [],
   "source": [
    "def tl(x):\n",
    "    # inversion des labels \"num\" et \"rue\"\n",
    "    x=x.split()\n",
    "    num, rue = x[0], x[1]\n",
    "    x[0], x[1] = rue, num\n",
    "    return \" \".join(x)"
   ]
  },
  {
   "cell_type": "code",
   "execution_count": 33,
   "id": "5dea9a78",
   "metadata": {},
   "outputs": [],
   "source": [
    "# application de la transformation à 10% des données\n",
    "freq = int(len(corpus_adr)*0.1)\n",
    "corpus_adr[:freq] = corpus_adr[:freq].transform(t)\n",
    "corpus_lab[:freq] = corpus_lab[:freq].transform(tl)"
   ]
  },
  {
   "cell_type": "code",
   "execution_count": 34,
   "id": "418a2342",
   "metadata": {},
   "outputs": [],
   "source": [
    "# mélange des données\n",
    "corpus = pd.DataFrame({\"adresses\":corpus_adr, \"labels\":corpus_lab})\n",
    "corpus = corpus.sample(frac=1)\n",
    "corpus_adr = corpus[\"adresses\"]\n",
    "corpus_lab = corpus[\"labels\"]"
   ]
  },
  {
   "cell_type": "code",
   "execution_count": 35,
   "id": "a53558a9",
   "metadata": {},
   "outputs": [],
   "source": [
    "def t2(x):\n",
    "    # inversion du code postal et du nom de ville\n",
    "    x=x.split(\"<>\")\n",
    "    cp, ville = x[-2], x[-1]\n",
    "    x[-2], x[-1] = ville, cp\n",
    "    return \"<>\".join(x)"
   ]
  },
  {
   "cell_type": "code",
   "execution_count": 36,
   "id": "53a806eb",
   "metadata": {},
   "outputs": [],
   "source": [
    "def tl2(x):\n",
    "    # inversion des labels \"cp\" et \"ville\"\n",
    "    x=x.split()\n",
    "    cp, ville = x[-2], x[-1]\n",
    "    x[-2], x[-1] = ville, cp\n",
    "    return \" \".join(x)"
   ]
  },
  {
   "cell_type": "code",
   "execution_count": 37,
   "id": "92a4f4c0",
   "metadata": {},
   "outputs": [],
   "source": [
    "# application de la transformation à 30% des données\n",
    "freq = int(len(corpus_adr)*0.3)\n",
    "corpus_adr[:freq] = corpus_adr[:freq].transform(t2)\n",
    "corpus_lab[:freq] = corpus_lab[:freq].transform(tl2)"
   ]
  },
  {
   "cell_type": "code",
   "execution_count": 38,
   "id": "1b50db04",
   "metadata": {},
   "outputs": [],
   "source": [
    "# mélange des données\n",
    "corpus = pd.DataFrame({\"adresses\":corpus_adr, \"labels\":corpus_lab})\n",
    "corpus = corpus.sample(frac=1)\n",
    "corpus_adr = corpus[\"adresses\"]\n",
    "corpus_lab = corpus[\"labels\"]"
   ]
  },
  {
   "cell_type": "markdown",
   "id": "f9d4a666",
   "metadata": {},
   "source": [
    "### extraction features"
   ]
  },
  {
   "cell_type": "code",
   "execution_count": 33,
   "id": "8194a53e",
   "metadata": {},
   "outputs": [],
   "source": [
    "# Define a function to extract features for each token in an adress\n",
    "def token_features(adress, i):\n",
    "    token = adress[i]\n",
    "    features = {\n",
    "        'token': token,\n",
    "#         'is_first': i == 0, #if the token is the first token\n",
    "#         'is_last': i == len(adress) - 1, #if the token is the last token\n",
    "        'token_length': len(token),\n",
    "#         #prefix of the token\n",
    "#         'prefix-1': token[0], \n",
    "#         'prefix-2': token[:2],\n",
    "#         'prefix-3': token[:3],\n",
    "#         #suffix of the token\n",
    "#         'suffix-1': token[-1],\n",
    "#         'suffix-2': token[-2:],\n",
    "#         'suffix-3': token[-3:],\n",
    "        #extracting previous token\n",
    "        'prev_token': '' if i == 0 else adress[i-1][0],\n",
    "        #extracting next token\n",
    "        'next_token': '' if i == len(adress)-1 else adress[i+1],\n",
    "        'has_hyphen': '-' in token, #if token has hypen\n",
    "        'is_numeric': token.isdigit(), #if token is in numeric\n",
    "    }\n",
    "    return features"
   ]
  },
  {
   "cell_type": "code",
   "execution_count": 34,
   "id": "c5643f09",
   "metadata": {},
   "outputs": [],
   "source": [
    "def process_adress(adress, labels):\n",
    "    X_adress = []\n",
    "    y_adress = []\n",
    "    labels = labels.split()\n",
    "    elts = adress.split(\"<>\")\n",
    "    for i, elt in enumerate(elts):\n",
    "        tokens = elt.split()\n",
    "        for j, t in enumerate(tokens):\n",
    "            X_adress.append(token_features(adress.replace(\"<>\", \" \").split(), i+j))\n",
    "            y_adress.append(labels[i])\n",
    "    return X_adress, y_adress"
   ]
  },
  {
   "cell_type": "code",
   "execution_count": 35,
   "id": "241d13cc",
   "metadata": {},
   "outputs": [],
   "source": [
    "# Extract features for each sentence in the corpus\n",
    "X = []\n",
    "y = []\n",
    "for i in corpus.index:\n",
    "    X_adress, y_adress = process_adress(corpus_adr[i], corpus_lab[i])\n",
    "    X.append(X_adress)\n",
    "    y.append(y_adress)\n",
    "\n",
    "# Split the data into training and testing sets\n",
    "split = int(0.8 * len(X))\n",
    "X_train = X[:split]\n",
    "y_train = y[:split]\n",
    "X_test = X[split:]\n",
    "y_test = y[split:]"
   ]
  },
  {
   "cell_type": "markdown",
   "id": "796e1041",
   "metadata": {},
   "source": [
    "### entraînement / évaluation modèle"
   ]
  },
  {
   "cell_type": "code",
   "execution_count": 93,
   "id": "7289ea43",
   "metadata": {},
   "outputs": [],
   "source": [
    "import sklearn_crfsuite\n",
    "from sklearn_crfsuite import metrics"
   ]
  },
  {
   "cell_type": "code",
   "execution_count": 449,
   "id": "ff954f2e",
   "metadata": {
    "collapsed": true
   },
   "outputs": [
    {
     "name": "stderr",
     "output_type": "stream",
     "text": [
      "loading training data to CRFsuite: 100%|██████████████████████████████████| 1152152/1152152 [00:51<00:00, 22252.66it/s]\n"
     ]
    },
    {
     "name": "stdout",
     "output_type": "stream",
     "text": [
      "\n",
      "Feature generation\n",
      "type: CRF1d\n",
      "feature.minfreq: 0.000000\n",
      "feature.possible_states: 0\n",
      "feature.possible_transitions: 1\n",
      "0....1....2....3....4....5....6....7....8....9....10\n",
      "Number of features: 532684\n",
      "Seconds required: 11.471\n",
      "\n",
      "L-BFGS optimization\n",
      "c1: 0.100000\n",
      "c2: 0.100000\n",
      "num_memories: 6\n",
      "max_iterations: 100\n",
      "epsilon: 0.000010\n",
      "stop: 10\n",
      "delta: 0.000010\n",
      "linesearch: MoreThuente\n",
      "linesearch.max_iterations: 20\n",
      "\n",
      "Iter 1   time=19.12 loss=9532311.21 active=496574 feature_norm=0.25\n",
      "Iter 2   time=4.55  loss=9259344.86 active=498613 feature_norm=0.27\n",
      "Iter 3   time=4.54  loss=8985506.42 active=472924 feature_norm=0.35\n",
      "Iter 4   time=4.50  loss=7519145.30 active=480973 feature_norm=1.08\n",
      "Iter 5   time=4.45  loss=4710888.87 active=505821 feature_norm=2.83\n",
      "Iter 6   time=4.42  loss=4403321.12 active=498123 feature_norm=4.19\n",
      "Iter 7   time=4.42  loss=3801067.67 active=527615 feature_norm=4.67\n",
      "Iter 8   time=4.47  loss=3583521.73 active=524755 feature_norm=5.27\n",
      "Iter 9   time=4.50  loss=3479718.33 active=516171 feature_norm=6.38\n",
      "Iter 10  time=4.69  loss=3362997.31 active=520239 feature_norm=7.13\n",
      "Iter 11  time=4.48  loss=3297193.60 active=526425 feature_norm=7.72\n",
      "Iter 12  time=4.40  loss=3262319.60 active=526257 feature_norm=8.27\n",
      "Iter 13  time=4.66  loss=3216697.18 active=526765 feature_norm=9.04\n",
      "Iter 14  time=4.67  loss=3180398.36 active=526295 feature_norm=9.76\n",
      "Iter 15  time=4.51  loss=3143534.33 active=525251 feature_norm=10.68\n",
      "Iter 16  time=4.38  loss=3101614.54 active=522438 feature_norm=11.91\n",
      "Iter 17  time=4.45  loss=3027327.19 active=510942 feature_norm=13.85\n",
      "Iter 18  time=8.85  loss=2995975.61 active=516091 feature_norm=14.85\n",
      "Iter 19  time=8.86  loss=2959634.70 active=520837 feature_norm=15.81\n",
      "Iter 20  time=8.82  loss=2924910.53 active=522900 feature_norm=16.77\n",
      "Iter 21  time=4.49  loss=2900158.01 active=504515 feature_norm=19.19\n",
      "Iter 22  time=4.88  loss=2885229.00 active=495200 feature_norm=21.45\n",
      "Iter 23  time=4.66  loss=2820401.55 active=485242 feature_norm=22.59\n",
      "Iter 24  time=4.48  loss=2797649.17 active=487144 feature_norm=23.89\n",
      "Iter 25  time=4.41  loss=2771881.91 active=483789 feature_norm=24.54\n",
      "Iter 26  time=4.48  loss=2751094.40 active=481561 feature_norm=25.35\n",
      "Iter 27  time=4.51  loss=2725322.82 active=482544 feature_norm=26.32\n",
      "Iter 28  time=4.57  loss=2710795.34 active=485611 feature_norm=27.13\n",
      "Iter 29  time=4.44  loss=2699426.63 active=483965 feature_norm=28.20\n",
      "Iter 30  time=4.39  loss=2685700.47 active=485900 feature_norm=28.69\n",
      "Iter 31  time=4.41  loss=2677533.02 active=486125 feature_norm=29.94\n",
      "Iter 32  time=4.43  loss=2665258.56 active=487850 feature_norm=30.65\n",
      "Iter 33  time=4.71  loss=2645646.07 active=478999 feature_norm=32.48\n",
      "Iter 34  time=8.74  loss=2632520.38 active=476873 feature_norm=33.77\n",
      "Iter 35  time=4.49  loss=2618954.81 active=476795 feature_norm=35.53\n",
      "Iter 36  time=4.69  loss=2603914.93 active=479763 feature_norm=36.62\n",
      "Iter 37  time=4.78  loss=2596491.49 active=479831 feature_norm=37.09\n",
      "Iter 38  time=4.78  loss=2561759.24 active=463076 feature_norm=41.84\n",
      "Iter 39  time=4.46  loss=2525906.81 active=466535 feature_norm=43.82\n",
      "Iter 40  time=4.57  loss=2503368.29 active=466285 feature_norm=45.84\n",
      "Iter 41  time=4.54  loss=2475872.02 active=466872 feature_norm=48.56\n",
      "Iter 42  time=4.54  loss=2452427.05 active=467332 feature_norm=50.60\n",
      "Iter 43  time=4.48  loss=2430869.69 active=468936 feature_norm=52.31\n",
      "Iter 44  time=4.49  loss=2399895.48 active=470388 feature_norm=54.16\n",
      "Iter 45  time=4.46  loss=2378236.52 active=469706 feature_norm=57.09\n",
      "Iter 46  time=4.40  loss=2355386.60 active=469866 feature_norm=60.15\n",
      "Iter 47  time=4.51  loss=2331582.33 active=470780 feature_norm=62.22\n",
      "Iter 48  time=4.57  loss=2302000.11 active=470251 feature_norm=66.42\n",
      "Iter 49  time=4.74  loss=2266350.33 active=467962 feature_norm=75.60\n",
      "Iter 50  time=9.24  loss=2240889.89 active=469241 feature_norm=82.25\n",
      "Iter 51  time=4.40  loss=2224656.34 active=468650 feature_norm=92.78\n",
      "Iter 52  time=4.57  loss=2193627.46 active=469465 feature_norm=101.54\n",
      "Iter 53  time=4.76  loss=2181079.36 active=469427 feature_norm=109.56\n",
      "Iter 54  time=4.65  loss=2159926.00 active=469643 feature_norm=118.29\n",
      "Iter 55  time=4.48  loss=2148866.14 active=468681 feature_norm=127.18\n",
      "Iter 56  time=4.48  loss=2128504.88 active=466932 feature_norm=137.10\n",
      "Iter 57  time=4.45  loss=2115341.10 active=466704 feature_norm=144.96\n",
      "Iter 58  time=4.42  loss=2100840.52 active=467373 feature_norm=153.39\n",
      "Iter 59  time=4.53  loss=2088969.52 active=467718 feature_norm=161.09\n",
      "Iter 60  time=4.53  loss=2076978.03 active=466982 feature_norm=168.83\n",
      "Iter 61  time=4.53  loss=2064297.07 active=467468 feature_norm=176.70\n",
      "Iter 62  time=4.50  loss=2056235.92 active=467197 feature_norm=185.29\n",
      "Iter 63  time=4.48  loss=2043361.29 active=467630 feature_norm=193.53\n",
      "Iter 64  time=4.40  loss=2036575.18 active=466333 feature_norm=201.48\n",
      "Iter 65  time=4.43  loss=2027108.37 active=467653 feature_norm=209.93\n",
      "Iter 66  time=4.50  loss=2018831.87 active=467643 feature_norm=218.06\n",
      "Iter 67  time=4.43  loss=2011907.99 active=467454 feature_norm=227.15\n",
      "Iter 68  time=4.41  loss=2003402.75 active=467424 feature_norm=234.92\n",
      "Iter 69  time=4.44  loss=1998693.76 active=466076 feature_norm=243.25\n",
      "Iter 70  time=4.39  loss=1990750.97 active=467660 feature_norm=250.78\n",
      "Iter 71  time=4.71  loss=1984702.50 active=467093 feature_norm=259.12\n",
      "Iter 72  time=4.45  loss=1977982.99 active=464640 feature_norm=268.38\n",
      "Iter 73  time=4.48  loss=1970279.72 active=465867 feature_norm=279.68\n",
      "Iter 74  time=4.50  loss=1961652.95 active=465794 feature_norm=291.72\n",
      "Iter 75  time=4.66  loss=1951656.23 active=465126 feature_norm=308.34\n",
      "Iter 76  time=4.47  loss=1942927.50 active=465102 feature_norm=323.71\n",
      "Iter 77  time=4.49  loss=1935267.85 active=465168 feature_norm=336.63\n",
      "Iter 78  time=4.49  loss=1925948.60 active=460740 feature_norm=359.29\n",
      "Iter 79  time=4.48  loss=1919655.62 active=458103 feature_norm=375.86\n",
      "Iter 80  time=4.45  loss=1912657.21 active=454937 feature_norm=394.59\n",
      "Iter 81  time=4.52  loss=1906971.99 active=456394 feature_norm=405.87\n",
      "Iter 82  time=4.44  loss=1900358.23 active=455235 feature_norm=419.46\n",
      "Iter 83  time=4.45  loss=1894570.61 active=455807 feature_norm=424.89\n",
      "Iter 84  time=4.76  loss=1888937.65 active=451373 feature_norm=430.86\n",
      "Iter 85  time=4.73  loss=1883243.59 active=452360 feature_norm=432.15\n",
      "Iter 86  time=4.91  loss=1877767.34 active=449449 feature_norm=434.44\n",
      "Iter 87  time=4.45  loss=1872344.46 active=449984 feature_norm=438.15\n",
      "Iter 88  time=22.26 loss=1871206.07 active=451310 feature_norm=443.00\n",
      "Iter 89  time=4.47  loss=1866081.50 active=448457 feature_norm=447.35\n",
      "Iter 90  time=4.45  loss=1861884.07 active=447341 feature_norm=452.27\n",
      "Iter 91  time=4.43  loss=1857610.02 active=443630 feature_norm=458.01\n",
      "Iter 92  time=4.45  loss=1855640.44 active=444546 feature_norm=462.48\n",
      "Iter 93  time=4.49  loss=1851794.05 active=446631 feature_norm=463.96\n",
      "Iter 94  time=4.61  loss=1849434.10 active=445086 feature_norm=466.50\n",
      "Iter 95  time=4.44  loss=1844619.67 active=441903 feature_norm=473.08\n",
      "Iter 96  time=8.91  loss=1843939.33 active=440598 feature_norm=477.87\n",
      "Iter 97  time=4.51  loss=1840572.92 active=443669 feature_norm=480.58\n",
      "Iter 98  time=4.49  loss=1838677.77 active=443752 feature_norm=482.71\n",
      "Iter 99  time=4.45  loss=1835736.73 active=442150 feature_norm=487.95\n",
      "Iter 100 time=4.51  loss=1833387.79 active=441987 feature_norm=490.66\n",
      "L-BFGS terminated with the maximum number of iterations\n",
      "Total seconds required for training: 510.776\n",
      "\n",
      "Storing the model\n",
      "Number of active features: 441987 (532684)\n",
      "Number of active attributes: 198135 (258449)\n",
      "Number of active labels: 4 (4)\n",
      "Writing labels\n",
      "Writing attributes\n",
      "Writing feature references for transitions\n",
      "Writing feature references for attributes\n",
      "Seconds required: 0.887\n",
      "\n",
      "0.8644135352037898\n"
     ]
    }
   ],
   "source": [
    "# Train a CRF model on the training data\n",
    "crf = sklearn_crfsuite.CRF(\n",
    "    algorithm='lbfgs',\n",
    "    c1=0.1,\n",
    "    c2=0.1,\n",
    "    max_iterations=100,\n",
    "    all_possible_transitions=True,\n",
    "    verbose=True\n",
    ")\n",
    "crf.fit(X_train, y_train)\n",
    "\n",
    "# Make predictions on the test data and evaluate the performance\n",
    "y_pred = crf.predict(X_test)\n",
    "\n",
    "print(metrics.flat_accuracy_score(y_test, y_pred))"
   ]
  },
  {
   "cell_type": "markdown",
   "id": "fd6ccbce",
   "metadata": {},
   "source": [
    "### predict function"
   ]
  },
  {
   "cell_type": "code",
   "execution_count": 408,
   "id": "1c2f5add",
   "metadata": {},
   "outputs": [],
   "source": [
    "from pprint import pprint\n",
    "def predict(adress):\n",
    "    print(adress)\n",
    "    X_adress = []\n",
    "    tokens = adress.split()\n",
    "    for i in range(len(tokens)):\n",
    "        X_adress.append(word_features(tokens, i))\n",
    "    tags = crf.predict([X_adress]).tolist()[0]\n",
    "    pprint(list(zip(tokens, tags)))"
   ]
  },
  {
   "cell_type": "code",
   "execution_count": 543,
   "id": "91fb262f",
   "metadata": {},
   "outputs": [
    {
     "name": "stdout",
     "output_type": "stream",
     "text": [
      "29 CALLE CANTERAS (LAS) 28411 MORALZARZAL\n",
      "[('29', 'num'),\n",
      " ('CALLE', 'rue'),\n",
      " ('CANTERAS', 'rue'),\n",
      " ('(LAS)', 'rue'),\n",
      " ('28411', 'ville'),\n",
      " ('MORALZARZAL', 'cp')]\n"
     ]
    }
   ],
   "source": [
    "predict(corpus_adr.iloc[-537].replace(\"<>\", \" \"))"
   ]
  },
  {
   "cell_type": "code",
   "execution_count": 39,
   "id": "71206593",
   "metadata": {},
   "outputs": [],
   "source": [
    "# y_test[-537]"
   ]
  },
  {
   "cell_type": "markdown",
   "id": "13707cd6",
   "metadata": {},
   "source": [
    "### Deep learning"
   ]
  },
  {
   "cell_type": "markdown",
   "id": "0f73fad2",
   "metadata": {},
   "source": [
    "Le problème de parsing d'adresses postales peut se rapprocher d'un problème de reconnaissance d'entités nommées (NER). Il s'agit de classifier une séquence de tokens en sachant qu'une catégorie d'une adresse postale - le nom de la rue, par exemple - peut s'étendre sur plusieurs tokens. Il en est de même pour les entités nommées. Par exemple un nom de personne s'étendra souvent sur 2 tokens ou plus (nom et prénom).  \n",
    "  \n",
    "Spacy est une libairie performante pour le problème de reconnaissance des entités nommées. C'est une librairie \"high-level\" basée sur des réseaux de neurones. C'est cette solution que j'ai choisi pour la partie deep learning de résolution du usecase. "
   ]
  },
  {
   "cell_type": "markdown",
   "id": "6126af3a",
   "metadata": {},
   "source": [
    "### Librairie Spacy"
   ]
  },
  {
   "cell_type": "markdown",
   "id": "3489c761",
   "metadata": {},
   "source": [
    "L'architecture est composée d'une couche d'embeddings suivie de réseaux convolutifs pour capturer le contexte. L'output sert à prédire la prochaine action à effectuer dans un algorithme de parsing séquentiel de type shift-reduce.  \n",
    "  \n",
    "L'inconvénient de cette librairie est son opacité. Il semble par exemple difficile d'accéder aux vecteurs contextuels des mots. De même, il est difficile d'accéder aux features utilisés à l'étape finale de prédiction. Ceux-ci sont malgré tout présentés dans une vidéo du fondateur de Spacy et sont les suivants:  \n",
    "mot courant, mot précédant, mot suivant; premier et dernier mot de l'entité précédente, dernier mot de l'entité encore avant  \n",
    "Il n'est pas clair si ces features sont personnalisables ou non, même si cela semble probable étant donné que cette flexibilité est mise en avant comme un des atouts de leur solution.  \n",
    "  \n",
    "Concernant les embeddings, il est possible de charger des embeddings pré-entraînés. De même, il est possible de changer leur architecture à base de CNN par une architecture de type transformer."
   ]
  },
  {
   "cell_type": "markdown",
   "id": "cb956695",
   "metadata": {},
   "source": [
    "### Comparaison CRF"
   ]
  },
  {
   "cell_type": "markdown",
   "id": "25508a84",
   "metadata": {},
   "source": [
    "Les résultats obtenus dans les mêmes conditions qu'avec les CRF plus haut sont largement supérieurs. Là où les CRF atteignent un f1-score de 0.86, le module NER de Spacy atteint un score au-delà de 0.99. Cela peut également laisser supposer un overfitting qui demande à être contrôlé en ajoutant de la variabilité dans les données de développement. "
   ]
  },
  {
   "cell_type": "markdown",
   "id": "21711247",
   "metadata": {},
   "source": [
    "Le coût computationnel est bien entendu supérieur. Là où le CRF a pu réaliser 100 époques en 10 minutes, le module NER de Spacy a pris plusieurs heures pour réaliser une seule époque. A noter néanmoins la possibilité de basculer une partie des calculs sur le GPU pour améliorer les performances. "
   ]
  },
  {
   "cell_type": "markdown",
   "id": "97bdcf91",
   "metadata": {},
   "source": [
    "### Préparation des données"
   ]
  },
  {
   "cell_type": "code",
   "execution_count": 39,
   "id": "22988690",
   "metadata": {},
   "outputs": [],
   "source": [
    "from tqdm import tqdm"
   ]
  },
  {
   "cell_type": "code",
   "execution_count": 40,
   "id": "b0e375a5",
   "metadata": {},
   "outputs": [],
   "source": [
    "def format_data(raw_adress, raw_labels):\n",
    "    adress_parts = raw_adress.split(\"<>\")\n",
    "    labels = raw_labels.split()\n",
    "    labels_new = {\"entities\":[]}\n",
    "    left_bound = 0\n",
    "    for i, ap in enumerate(adress_parts):\n",
    "        labels_new[\"entities\"].append((left_bound, left_bound+len(ap), labels[i]))\n",
    "        left_bound += len(ap)+1\n",
    "    return (raw_adress.replace(\"<>\", \" \"), labels_new)"
   ]
  },
  {
   "cell_type": "code",
   "execution_count": 59,
   "id": "16dfb618",
   "metadata": {},
   "outputs": [
    {
     "name": "stderr",
     "output_type": "stream",
     "text": [
      "100%|█████████████████████████████████████████████████████████████████████| 1440190/1440190 [00:43<00:00, 32998.48it/s]\n"
     ]
    }
   ],
   "source": [
    "data = []\n",
    "for i in tqdm(range(len(corpus_adr))):\n",
    "    data.append(format_data(corpus_adr.iloc[i], corpus_lab.iloc[i]))"
   ]
  },
  {
   "cell_type": "code",
   "execution_count": 60,
   "id": "52dac6ef",
   "metadata": {},
   "outputs": [],
   "source": [
    "split = int(len(data)*0.8)\n",
    "train_data = data[:split]\n",
    "test_data = data[split:]"
   ]
  },
  {
   "cell_type": "markdown",
   "id": "3b488708",
   "metadata": {},
   "source": [
    "### Initialisation modèle"
   ]
  },
  {
   "cell_type": "code",
   "execution_count": 62,
   "id": "25384a10",
   "metadata": {},
   "outputs": [
    {
     "name": "stderr",
     "output_type": "stream",
     "text": [
      "100%|█████████████████████████████████████████████████████████████████████| 1152152/1152152 [00:24<00:00, 47112.00it/s]\n"
     ]
    }
   ],
   "source": [
    "import spacy\n",
    "\n",
    "# spacy.prefer_gpu()\n",
    "\n",
    "# Créer un modèle vierge pour l'espagnol\n",
    "nlp = spacy.blank(\"es\")\n",
    "\n",
    "# Ajouter un composant NER au pipeline\n",
    "if \"ner\" not in nlp.pipe_names:\n",
    "    ner = nlp.add_pipe(\"ner\")\n",
    "\n",
    "# Possibilité d'utiliser un modèle pré-entrainé :\n",
    "# nlp = spacy.load(\"es_core_news_sm\")\n",
    "# ner = nlp.get_pipe(\"ner\")\n",
    "\n",
    "# Ajouter les étiquettes d'entités\n",
    "for _, annotations in tqdm(train_data):\n",
    "    for ent in annotations.get(\"entities\"):\n",
    "        ner.add_label(ent[2])"
   ]
  },
  {
   "cell_type": "code",
   "execution_count": 63,
   "id": "dc97c6cd",
   "metadata": {},
   "outputs": [
    {
     "name": "stderr",
     "output_type": "stream",
     "text": [
      "100%|████████████████████████████████████████████████████████████████████████| 100000/100000 [00:28<00:00, 3571.34it/s]\n"
     ]
    }
   ],
   "source": [
    "from spacy.training.example import Example\n",
    "\n",
    "for i in tqdm(range(len(train_data[:100000]))):\n",
    "    text, labels = train_data[i]\n",
    "    doc = nlp.make_doc(text)\n",
    "    train_data[i] = Example.from_dict(doc, labels)"
   ]
  },
  {
   "cell_type": "markdown",
   "id": "74bec987",
   "metadata": {},
   "source": [
    "### Entraînement"
   ]
  },
  {
   "cell_type": "code",
   "execution_count": 64,
   "id": "6d7a79c0",
   "metadata": {
    "collapsed": true
   },
   "outputs": [
    {
     "name": "stderr",
     "output_type": "stream",
     "text": [
      "1469it [01:29, 16.47it/s]\n"
     ]
    },
    {
     "ename": "KeyboardInterrupt",
     "evalue": "",
     "output_type": "error",
     "traceback": [
      "\u001b[1;31m---------------------------------------------------------------------------\u001b[0m",
      "\u001b[1;31mKeyboardInterrupt\u001b[0m                         Traceback (most recent call last)",
      "Cell \u001b[1;32mIn[64], line 20\u001b[0m\n\u001b[0;32m     17\u001b[0m         batches \u001b[38;5;241m=\u001b[39m minibatch(train_data[:\u001b[38;5;241m100000\u001b[39m], size\u001b[38;5;241m=\u001b[39mcompounding(\u001b[38;5;241m4.0\u001b[39m, \u001b[38;5;241m32.0\u001b[39m, \u001b[38;5;241m1.001\u001b[39m))\n\u001b[0;32m     18\u001b[0m         \u001b[38;5;28;01mfor\u001b[39;00m batch \u001b[38;5;129;01min\u001b[39;00m tqdm(batches):\n\u001b[0;32m     19\u001b[0m \u001b[38;5;66;03m#             texts, annotations = zip(*batch)\u001b[39;00m\n\u001b[1;32m---> 20\u001b[0m             \u001b[43mnlp\u001b[49m\u001b[38;5;241;43m.\u001b[39;49m\u001b[43mupdate\u001b[49m\u001b[43m(\u001b[49m\u001b[43mbatch\u001b[49m\u001b[43m,\u001b[49m\u001b[43m \u001b[49m\u001b[43mdrop\u001b[49m\u001b[38;5;241;43m=\u001b[39;49m\u001b[38;5;241;43m0.5\u001b[39;49m\u001b[43m,\u001b[49m\u001b[43m \u001b[49m\u001b[43mlosses\u001b[49m\u001b[38;5;241;43m=\u001b[39;49m\u001b[43mlosses\u001b[49m\u001b[43m)\u001b[49m\n\u001b[0;32m     21\u001b[0m         \u001b[38;5;28mprint\u001b[39m(\u001b[38;5;124mf\u001b[39m\u001b[38;5;124m\"\u001b[39m\u001b[38;5;124mIteration \u001b[39m\u001b[38;5;132;01m{\u001b[39;00mitn\u001b[38;5;132;01m}\u001b[39;00m\u001b[38;5;124m, Losses: \u001b[39m\u001b[38;5;132;01m{\u001b[39;00mlosses\u001b[38;5;132;01m}\u001b[39;00m\u001b[38;5;124m\"\u001b[39m)\n",
      "File \u001b[1;32m~\\Documents\\Black_Tiger\\usecase\\uc\\Lib\\site-packages\\spacy\\language.py:1196\u001b[0m, in \u001b[0;36mLanguage.update\u001b[1;34m(self, examples, _, drop, sgd, losses, component_cfg, exclude, annotates)\u001b[0m\n\u001b[0;32m   1193\u001b[0m \u001b[38;5;28;01mfor\u001b[39;00m name, proc \u001b[38;5;129;01min\u001b[39;00m \u001b[38;5;28mself\u001b[39m\u001b[38;5;241m.\u001b[39mpipeline:\n\u001b[0;32m   1194\u001b[0m     \u001b[38;5;66;03m# ignore statements are used here because mypy ignores hasattr\u001b[39;00m\n\u001b[0;32m   1195\u001b[0m     \u001b[38;5;28;01mif\u001b[39;00m name \u001b[38;5;129;01mnot\u001b[39;00m \u001b[38;5;129;01min\u001b[39;00m exclude \u001b[38;5;129;01mand\u001b[39;00m \u001b[38;5;28mhasattr\u001b[39m(proc, \u001b[38;5;124m\"\u001b[39m\u001b[38;5;124mupdate\u001b[39m\u001b[38;5;124m\"\u001b[39m):\n\u001b[1;32m-> 1196\u001b[0m         \u001b[43mproc\u001b[49m\u001b[38;5;241;43m.\u001b[39;49m\u001b[43mupdate\u001b[49m\u001b[43m(\u001b[49m\u001b[43mexamples\u001b[49m\u001b[43m,\u001b[49m\u001b[43m \u001b[49m\u001b[43msgd\u001b[49m\u001b[38;5;241;43m=\u001b[39;49m\u001b[38;5;28;43;01mNone\u001b[39;49;00m\u001b[43m,\u001b[49m\u001b[43m \u001b[49m\u001b[43mlosses\u001b[49m\u001b[38;5;241;43m=\u001b[39;49m\u001b[43mlosses\u001b[49m\u001b[43m,\u001b[49m\u001b[43m \u001b[49m\u001b[38;5;241;43m*\u001b[39;49m\u001b[38;5;241;43m*\u001b[39;49m\u001b[43mcomponent_cfg\u001b[49m\u001b[43m[\u001b[49m\u001b[43mname\u001b[49m\u001b[43m]\u001b[49m\u001b[43m)\u001b[49m  \u001b[38;5;66;03m# type: ignore\u001b[39;00m\n\u001b[0;32m   1197\u001b[0m     \u001b[38;5;28;01mif\u001b[39;00m sgd \u001b[38;5;129;01mnot\u001b[39;00m \u001b[38;5;129;01min\u001b[39;00m (\u001b[38;5;28;01mNone\u001b[39;00m, \u001b[38;5;28;01mFalse\u001b[39;00m):\n\u001b[0;32m   1198\u001b[0m         \u001b[38;5;28;01mif\u001b[39;00m (\n\u001b[0;32m   1199\u001b[0m             name \u001b[38;5;129;01mnot\u001b[39;00m \u001b[38;5;129;01min\u001b[39;00m exclude\n\u001b[0;32m   1200\u001b[0m             \u001b[38;5;129;01mand\u001b[39;00m \u001b[38;5;28misinstance\u001b[39m(proc, ty\u001b[38;5;241m.\u001b[39mTrainableComponent)\n\u001b[0;32m   1201\u001b[0m             \u001b[38;5;129;01mand\u001b[39;00m proc\u001b[38;5;241m.\u001b[39mis_trainable\n\u001b[0;32m   1202\u001b[0m             \u001b[38;5;129;01mand\u001b[39;00m proc\u001b[38;5;241m.\u001b[39mmodel \u001b[38;5;129;01mnot\u001b[39;00m \u001b[38;5;129;01min\u001b[39;00m (\u001b[38;5;28;01mTrue\u001b[39;00m, \u001b[38;5;28;01mFalse\u001b[39;00m, \u001b[38;5;28;01mNone\u001b[39;00m)\n\u001b[0;32m   1203\u001b[0m         ):\n",
      "File \u001b[1;32m~\\Documents\\Black_Tiger\\usecase\\uc\\Lib\\site-packages\\spacy\\pipeline\\transition_parser.pyx:425\u001b[0m, in \u001b[0;36mspacy.pipeline.transition_parser.Parser.update\u001b[1;34m()\u001b[0m\n",
      "File \u001b[1;32m~\\Documents\\Black_Tiger\\usecase\\uc\\Lib\\site-packages\\thinc\\model.py:328\u001b[0m, in \u001b[0;36mModel.begin_update\u001b[1;34m(self, X)\u001b[0m\n\u001b[0;32m    321\u001b[0m \u001b[38;5;28;01mdef\u001b[39;00m \u001b[38;5;21mbegin_update\u001b[39m(\u001b[38;5;28mself\u001b[39m, X: InT) \u001b[38;5;241m-\u001b[39m\u001b[38;5;241m>\u001b[39m Tuple[OutT, Callable[[OutT], InT]]:\n\u001b[0;32m    322\u001b[0m \u001b[38;5;250m    \u001b[39m\u001b[38;5;124;03m\"\"\"Run the model over a batch of data, returning the output and a\u001b[39;00m\n\u001b[0;32m    323\u001b[0m \u001b[38;5;124;03m    callback to complete the backward pass. A tuple (Y, finish_update),\u001b[39;00m\n\u001b[0;32m    324\u001b[0m \u001b[38;5;124;03m    where Y is a batch of output data, and finish_update is a callback that\u001b[39;00m\n\u001b[0;32m    325\u001b[0m \u001b[38;5;124;03m    takes the gradient with respect to the output and an optimizer function,\u001b[39;00m\n\u001b[0;32m    326\u001b[0m \u001b[38;5;124;03m    and returns the gradient with respect to the input.\u001b[39;00m\n\u001b[0;32m    327\u001b[0m \u001b[38;5;124;03m    \"\"\"\u001b[39;00m\n\u001b[1;32m--> 328\u001b[0m     \u001b[38;5;28;01mreturn\u001b[39;00m \u001b[38;5;28;43mself\u001b[39;49m\u001b[38;5;241;43m.\u001b[39;49m\u001b[43m_func\u001b[49m\u001b[43m(\u001b[49m\u001b[38;5;28;43mself\u001b[39;49m\u001b[43m,\u001b[49m\u001b[43m \u001b[49m\u001b[43mX\u001b[49m\u001b[43m,\u001b[49m\u001b[43m \u001b[49m\u001b[43mis_train\u001b[49m\u001b[38;5;241;43m=\u001b[39;49m\u001b[38;5;28;43;01mTrue\u001b[39;49;00m\u001b[43m)\u001b[49m\n",
      "File \u001b[1;32m~\\Documents\\Black_Tiger\\usecase\\uc\\Lib\\site-packages\\spacy\\ml\\parser_model.pyx:348\u001b[0m, in \u001b[0;36mspacy.ml.parser_model.step_forward\u001b[1;34m()\u001b[0m\n",
      "File \u001b[1;32m~\\Documents\\Black_Tiger\\usecase\\uc\\Lib\\site-packages\\thinc\\backends\\ops.py:495\u001b[0m, in \u001b[0;36mOps.get_dropout_mask\u001b[1;34m(self, shape, drop)\u001b[0m\n\u001b[0;32m    493\u001b[0m \u001b[38;5;28;01melif\u001b[39;00m drop \u001b[38;5;241m>\u001b[39m\u001b[38;5;241m=\u001b[39m \u001b[38;5;241m1.0\u001b[39m:\n\u001b[0;32m    494\u001b[0m     \u001b[38;5;28;01mreturn\u001b[39;00m \u001b[38;5;28mself\u001b[39m\u001b[38;5;241m.\u001b[39malloc_f(shape)\n\u001b[1;32m--> 495\u001b[0m coinflips \u001b[38;5;241m=\u001b[39m \u001b[38;5;28;43mself\u001b[39;49m\u001b[38;5;241;43m.\u001b[39;49m\u001b[43mxp\u001b[49m\u001b[38;5;241;43m.\u001b[39;49m\u001b[43mrandom\u001b[49m\u001b[38;5;241;43m.\u001b[39;49m\u001b[43muniform\u001b[49m\u001b[43m(\u001b[49m\u001b[38;5;241;43m0.0\u001b[39;49m\u001b[43m,\u001b[49m\u001b[43m \u001b[49m\u001b[38;5;241;43m1.0\u001b[39;49m\u001b[43m,\u001b[49m\u001b[43m \u001b[49m\u001b[43mshape\u001b[49m\u001b[43m)\u001b[49m\n\u001b[0;32m    496\u001b[0m mask \u001b[38;5;241m=\u001b[39m (coinflips \u001b[38;5;241m>\u001b[39m\u001b[38;5;241m=\u001b[39m drop) \u001b[38;5;241m/\u001b[39m (\u001b[38;5;241m1.0\u001b[39m \u001b[38;5;241m-\u001b[39m drop)\n\u001b[0;32m    497\u001b[0m \u001b[38;5;28;01mreturn\u001b[39;00m cast(FloatsXd, \u001b[38;5;28mself\u001b[39m\u001b[38;5;241m.\u001b[39masarray(mask, dtype\u001b[38;5;241m=\u001b[39m\u001b[38;5;124m\"\u001b[39m\u001b[38;5;124mfloat32\u001b[39m\u001b[38;5;124m\"\u001b[39m))\n",
      "\u001b[1;31mKeyboardInterrupt\u001b[0m: "
     ]
    }
   ],
   "source": [
    "from spacy.util import minibatch, compounding\n",
    "import random\n",
    "\n",
    "# spacy.require_gpu()\n",
    "\n",
    "# Désactiver les autres composants du pipeline pendant l'entraînement\n",
    "other_pipes = [pipe for pipe in nlp.pipe_names if pipe != \"ner\"]\n",
    "with nlp.disable_pipes(*other_pipes):  # Désactiver les pipes sauf 'ner'\n",
    "    optimizer = nlp.begin_training()\n",
    "    \n",
    "    # Boucles sur plusieurs itérations (époques)\n",
    "    for itn in range(1):\n",
    "#         random.shuffle(train_data)\n",
    "        losses = {}\n",
    "        \n",
    "        # Diviser les données en mini-batchs et entraîner\n",
    "        batches = minibatch(train_data[:100000], size=compounding(4.0, 32.0, 1.001))\n",
    "        for batch in tqdm(batches):\n",
    "#             texts, annotations = zip(*batch)\n",
    "            nlp.update(batch, drop=0.5, losses=losses)\n",
    "        print(f\"Iteration {itn}, Losses: {losses}\")"
   ]
  },
  {
   "cell_type": "code",
   "execution_count": 45,
   "id": "309e8493",
   "metadata": {},
   "outputs": [],
   "source": [
    "nlp.to_disk(\"spacy_model\")"
   ]
  },
  {
   "cell_type": "markdown",
   "id": "b6fe257d",
   "metadata": {},
   "source": [
    "### Evaluation"
   ]
  },
  {
   "cell_type": "code",
   "execution_count": 48,
   "id": "1f2927e3",
   "metadata": {
    "scrolled": true
   },
   "outputs": [
    {
     "name": "stderr",
     "output_type": "stream",
     "text": [
      "100%|████████████████████████████████████████████████████████████████████████| 288038/288038 [01:38<00:00, 2920.16it/s]\n"
     ]
    }
   ],
   "source": [
    "for i in tqdm(range(len(test_data))):\n",
    "    text, labels = test_data[i]\n",
    "    doc = nlp.make_doc(text)\n",
    "    test_data[i] = Example.from_dict(doc, labels)"
   ]
  },
  {
   "cell_type": "code",
   "execution_count": 70,
   "id": "6dc128e9",
   "metadata": {
    "collapsed": true
   },
   "outputs": [
    {
     "name": "stdout",
     "output_type": "stream",
     "text": [
      "\n",
      "13 num\n",
      "C LLUNA rue\n",
      "08191 cp\n",
      "RUBI ville\n",
      "\n",
      "13 num\n",
      "CALLE ALEJANDRO CASONA rue\n",
      "33940 cp\n",
      "ENTREGU (L')/ENTREGO (EL) ville\n",
      "\n",
      "15 num\n",
      "CALLE MEDICO TABERNER rue\n",
      "QUARTELL ville\n",
      "46510 cp\n",
      "\n",
      "6 num\n",
      "CALLE FRAY FELICIANO DE VENTOSA rue\n",
      "47232 cp\n",
      "VENTOSA DE LA CUESTA ville\n",
      "\n",
      "CALLE MANCHA (LA) rue\n",
      "31 num\n",
      "PETRER ville\n",
      "03610 cp\n"
     ]
    }
   ],
   "source": [
    "for i in range(5):\n",
    "    doc = nlp(data[-i][0]); print()\n",
    "\n",
    "    # Parcourir les entités détectées\n",
    "    for ent in doc.ents:\n",
    "        print(ent.text, ent.label_)"
   ]
  },
  {
   "cell_type": "code",
   "execution_count": 62,
   "id": "57eedc37",
   "metadata": {
    "scrolled": true
   },
   "outputs": [
    {
     "data": {
      "text/plain": [
       "{'token_acc': 1.0,\n",
       " 'token_p': 1.0,\n",
       " 'token_r': 1.0,\n",
       " 'token_f': 1.0,\n",
       " 'ents_p': 0.9968264847115164,\n",
       " 'ents_r': 0.9972703254431707,\n",
       " 'ents_f': 0.9970483556829024,\n",
       " 'ents_per_type': {'num': {'p': 0.9999027865539917,\n",
       "   'r': 0.9998611294343107,\n",
       "   'f': 0.9998819575602712},\n",
       "  'rue': {'p': 0.992032467261946,\n",
       "   'r': 0.9920531318784327,\n",
       "   'f': 0.9920427994625766},\n",
       "  'cp': {'p': 0.9998299124917126, 'r': 1.0, 'f': 0.9999149490128011},\n",
       "  'ville': {'p': 0.9955425846077058,\n",
       "   'r': 0.9971670404599393,\n",
       "   'f': 0.9963541504060386}},\n",
       " 'speed': 15846.461693305087}"
      ]
     },
     "execution_count": 62,
     "metadata": {},
     "output_type": "execute_result"
    }
   ],
   "source": [
    "nlp.evaluate(test_data)"
   ]
  },
  {
   "cell_type": "code",
   "execution_count": 77,
   "id": "bf86add7",
   "metadata": {},
   "outputs": [],
   "source": [
    "# Créer un modèle vierge pour l'espagnol\n",
    "nlp_test = spacy.blank(\"es\")\n",
    "\n",
    "# Ajouter un composant NER au pipeline\n",
    "if \"ner\" not in nlp_test.pipe_names:\n",
    "    ner_test = nlp_test.add_pipe(\"ner\")\n",
    "\n",
    "# Ajouter les étiquettes d'entités\n",
    "for _, annotations in tqdm(data[:split]):\n",
    "    for ent in annotations.get(\"entities\"):\n",
    "        ner_test.add_label(ent[2])"
   ]
  },
  {
   "cell_type": "code",
   "execution_count": 80,
   "id": "58530eb3",
   "metadata": {
    "scrolled": true
   },
   "outputs": [
    {
     "name": "stderr",
     "output_type": "stream",
     "text": [
      "2it [00:00,  6.70it/s]"
     ]
    },
    {
     "name": "stdout",
     "output_type": "stream",
     "text": [
      "Iteration 0, Losses: {'ner': 33.0120667219162}\n"
     ]
    },
    {
     "name": "stderr",
     "output_type": "stream",
     "text": [
      "\n"
     ]
    }
   ],
   "source": [
    "# Désactiver les autres composants du pipeline pendant l'entraînement\n",
    "other_pipes = [pipe for pipe in nlp_test.pipe_names if pipe != \"ner\"]\n",
    "with nlp_test.disable_pipes(*other_pipes):  # Désactiver les pipes sauf 'ner'\n",
    "    optimizer = nlp_test.begin_training()\n",
    "    \n",
    "    # Boucles sur plusieurs itérations (époques)\n",
    "    for itn in range(1):\n",
    "        random.shuffle(train_data)\n",
    "        losses = {}\n",
    "        \n",
    "        # Diviser les données en mini-batchs et entraîner\n",
    "        batches = minibatch(train_data[:5], size=compounding(4.0, 32.0, 1.001))\n",
    "        for batch in tqdm(batches):\n",
    "            nlp_test.update(batch, drop=0.5, losses=losses)\n",
    "        print(f\"Iteration {itn}, Losses: {losses}\")"
   ]
  },
  {
   "cell_type": "code",
   "execution_count": 81,
   "id": "a06de114",
   "metadata": {},
   "outputs": [
    {
     "data": {
      "text/plain": [
       "{'token_acc': 1.0,\n",
       " 'token_p': 1.0,\n",
       " 'token_r': 1.0,\n",
       " 'token_f': 1.0,\n",
       " 'ents_p': 0.08471391972672929,\n",
       " 'ents_r': 0.0248,\n",
       " 'ents_f': 0.03836782053761361,\n",
       " 'ents_per_type': {'num': {'p': 0.21593447505584512,\n",
       "   'r': 0.058,\n",
       "   'f': 0.09143938199590099},\n",
       "  'ville': {'p': 0.06666666666666667, 'r': 0.0006, 'f': 0.0011892963330029731},\n",
       "  'rue': {'p': 0.0, 'r': 0.0, 'f': 0.0},\n",
       "  'cp': {'p': 0.12258454106280194, 'r': 0.0406, 'f': 0.060997596153846145}},\n",
       " 'speed': 12272.06301893324}"
      ]
     },
     "execution_count": 81,
     "metadata": {},
     "output_type": "execute_result"
    }
   ],
   "source": [
    "nlp_test.evaluate(test_data[:5000])"
   ]
  },
  {
   "cell_type": "code",
   "execution_count": 82,
   "id": "32d92667",
   "metadata": {},
   "outputs": [
    {
     "name": "stdout",
     "output_type": "stream",
     "text": [
      "\n",
      "08191 num\n",
      "\n",
      "CASONA 33940 ENTREGU (L')/ENTREGO (EL) rue\n",
      "\n",
      "QUARTELL num\n",
      "\n",
      "VENTOSA 47232 VENTOSA DE LA CUESTA rue\n",
      "\n",
      "31 num\n"
     ]
    }
   ],
   "source": [
    "for i in range(5):\n",
    "    doc = nlp_test(data[-i][0]); print()\n",
    "\n",
    "    # Parcourir les entités détectées\n",
    "    for ent in doc.ents:\n",
    "        print(ent.text, ent.label_)"
   ]
  },
  {
   "cell_type": "markdown",
   "id": "5c9f5e82",
   "metadata": {},
   "source": [
    "### Test robustness"
   ]
  },
  {
   "cell_type": "code",
   "execution_count": null,
   "id": "5b68dfbd",
   "metadata": {},
   "outputs": [],
   "source": []
  },
  {
   "cell_type": "markdown",
   "id": "43395983",
   "metadata": {},
   "source": [
    " - - -\n",
    "### Brouillon"
   ]
  },
  {
   "cell_type": "markdown",
   "id": "62e44556",
   "metadata": {},
   "source": [
    "lignes exclues"
   ]
  },
  {
   "cell_type": "code",
   "execution_count": 252,
   "id": "fa99703e",
   "metadata": {},
   "outputs": [],
   "source": [
    "# Jointure externe pour voir les lignes exclues\n",
    "outer_merged = pd.merge(adr, vias, on=[\"code province\", \"code commune\", \"code voie\"], how='outer', indicator=True)"
   ]
  },
  {
   "cell_type": "code",
   "execution_count": 253,
   "id": "80d4957f",
   "metadata": {
    "collapsed": true
   },
   "outputs": [
    {
     "data": {
      "text/html": [
       "<div>\n",
       "<style scoped>\n",
       "    .dataframe tbody tr th:only-of-type {\n",
       "        vertical-align: middle;\n",
       "    }\n",
       "\n",
       "    .dataframe tbody tr th {\n",
       "        vertical-align: top;\n",
       "    }\n",
       "\n",
       "    .dataframe thead th {\n",
       "        text-align: right;\n",
       "    }\n",
       "</style>\n",
       "<table border=\"1\" class=\"dataframe\">\n",
       "  <thead>\n",
       "    <tr style=\"text-align: right;\">\n",
       "      <th></th>\n",
       "      <th>code province</th>\n",
       "      <th>code commune</th>\n",
       "      <th>code unité pop</th>\n",
       "      <th>entité singulière</th>\n",
       "      <th>code postal</th>\n",
       "      <th>nom abrégé voie</th>\n",
       "      <th>code voie</th>\n",
       "      <th>type num</th>\n",
       "      <th>début num</th>\n",
       "      <th>fin num</th>\n",
       "      <th>type de voie</th>\n",
       "      <th>pos type voie</th>\n",
       "      <th>nom de voie</th>\n",
       "      <th>nom court</th>\n",
       "      <th>_merge</th>\n",
       "    </tr>\n",
       "  </thead>\n",
       "  <tbody>\n",
       "    <tr>\n",
       "      <th>1</th>\n",
       "      <td>02</td>\n",
       "      <td>001</td>\n",
       "      <td>NaN</td>\n",
       "      <td>NaN</td>\n",
       "      <td>NaN</td>\n",
       "      <td>NaN</td>\n",
       "      <td>00009</td>\n",
       "      <td>NaN</td>\n",
       "      <td>NaN</td>\n",
       "      <td>NaN</td>\n",
       "      <td>CTRA</td>\n",
       "      <td>0</td>\n",
       "      <td>CARRETERA DE JORQUERA</td>\n",
       "      <td>CARRETERA DE JORQUERA</td>\n",
       "      <td>right_only</td>\n",
       "    </tr>\n",
       "    <tr>\n",
       "      <th>31</th>\n",
       "      <td>02</td>\n",
       "      <td>001</td>\n",
       "      <td>NaN</td>\n",
       "      <td>NaN</td>\n",
       "      <td>NaN</td>\n",
       "      <td>NaN</td>\n",
       "      <td>00168</td>\n",
       "      <td>NaN</td>\n",
       "      <td>NaN</td>\n",
       "      <td>NaN</td>\n",
       "      <td>CALLE</td>\n",
       "      <td>0</td>\n",
       "      <td>EXTRAMUROS</td>\n",
       "      <td>EXTRAMUROS</td>\n",
       "      <td>right_only</td>\n",
       "    </tr>\n",
       "    <tr>\n",
       "      <th>66</th>\n",
       "      <td>02</td>\n",
       "      <td>001</td>\n",
       "      <td>NaN</td>\n",
       "      <td>NaN</td>\n",
       "      <td>NaN</td>\n",
       "      <td>NaN</td>\n",
       "      <td>00341</td>\n",
       "      <td>NaN</td>\n",
       "      <td>NaN</td>\n",
       "      <td>NaN</td>\n",
       "      <td>CALLE</td>\n",
       "      <td>0</td>\n",
       "      <td>FRONTON</td>\n",
       "      <td>FRONTON</td>\n",
       "      <td>right_only</td>\n",
       "    </tr>\n",
       "    <tr>\n",
       "      <th>79</th>\n",
       "      <td>02</td>\n",
       "      <td>001</td>\n",
       "      <td>NaN</td>\n",
       "      <td>NaN</td>\n",
       "      <td>NaN</td>\n",
       "      <td>NaN</td>\n",
       "      <td>00363</td>\n",
       "      <td>NaN</td>\n",
       "      <td>NaN</td>\n",
       "      <td>NaN</td>\n",
       "      <td>CALLE</td>\n",
       "      <td>0</td>\n",
       "      <td>PONIENTE</td>\n",
       "      <td>PONIENTE</td>\n",
       "      <td>right_only</td>\n",
       "    </tr>\n",
       "    <tr>\n",
       "      <th>81</th>\n",
       "      <td>02</td>\n",
       "      <td>002</td>\n",
       "      <td>NaN</td>\n",
       "      <td>NaN</td>\n",
       "      <td>NaN</td>\n",
       "      <td>NaN</td>\n",
       "      <td>00022</td>\n",
       "      <td>NaN</td>\n",
       "      <td>NaN</td>\n",
       "      <td>NaN</td>\n",
       "      <td>.</td>\n",
       "      <td>0</td>\n",
       "      <td>CEMENTERIO</td>\n",
       "      <td>CEMENTERIO</td>\n",
       "      <td>right_only</td>\n",
       "    </tr>\n",
       "    <tr>\n",
       "      <th>...</th>\n",
       "      <td>...</td>\n",
       "      <td>...</td>\n",
       "      <td>...</td>\n",
       "      <td>...</td>\n",
       "      <td>...</td>\n",
       "      <td>...</td>\n",
       "      <td>...</td>\n",
       "      <td>...</td>\n",
       "      <td>...</td>\n",
       "      <td>...</td>\n",
       "      <td>...</td>\n",
       "      <td>...</td>\n",
       "      <td>...</td>\n",
       "      <td>...</td>\n",
       "      <td>...</td>\n",
       "    </tr>\n",
       "    <tr>\n",
       "      <th>18272</th>\n",
       "      <td>02</td>\n",
       "      <td>901</td>\n",
       "      <td>NaN</td>\n",
       "      <td>NaN</td>\n",
       "      <td>NaN</td>\n",
       "      <td>NaN</td>\n",
       "      <td>00067</td>\n",
       "      <td>NaN</td>\n",
       "      <td>NaN</td>\n",
       "      <td>NaN</td>\n",
       "      <td>CLLON</td>\n",
       "      <td>0</td>\n",
       "      <td>TRASERAS</td>\n",
       "      <td>TRASERAS</td>\n",
       "      <td>right_only</td>\n",
       "    </tr>\n",
       "    <tr>\n",
       "      <th>18279</th>\n",
       "      <td>02</td>\n",
       "      <td>901</td>\n",
       "      <td>NaN</td>\n",
       "      <td>NaN</td>\n",
       "      <td>NaN</td>\n",
       "      <td>NaN</td>\n",
       "      <td>00075</td>\n",
       "      <td>NaN</td>\n",
       "      <td>NaN</td>\n",
       "      <td>NaN</td>\n",
       "      <td>CALLE</td>\n",
       "      <td>0</td>\n",
       "      <td>POZO BUENO</td>\n",
       "      <td>POZO BUENO</td>\n",
       "      <td>right_only</td>\n",
       "    </tr>\n",
       "    <tr>\n",
       "      <th>18293</th>\n",
       "      <td>02</td>\n",
       "      <td>901</td>\n",
       "      <td>NaN</td>\n",
       "      <td>NaN</td>\n",
       "      <td>NaN</td>\n",
       "      <td>NaN</td>\n",
       "      <td>00084</td>\n",
       "      <td>NaN</td>\n",
       "      <td>NaN</td>\n",
       "      <td>NaN</td>\n",
       "      <td>CALLE</td>\n",
       "      <td>0</td>\n",
       "      <td>ORTEGA Y GASSET</td>\n",
       "      <td>ORTEGA Y GASSET</td>\n",
       "      <td>right_only</td>\n",
       "    </tr>\n",
       "    <tr>\n",
       "      <th>18295</th>\n",
       "      <td>02</td>\n",
       "      <td>901</td>\n",
       "      <td>NaN</td>\n",
       "      <td>NaN</td>\n",
       "      <td>NaN</td>\n",
       "      <td>NaN</td>\n",
       "      <td>00086</td>\n",
       "      <td>NaN</td>\n",
       "      <td>NaN</td>\n",
       "      <td>NaN</td>\n",
       "      <td>CALLE</td>\n",
       "      <td>0</td>\n",
       "      <td>LEON FELIPE</td>\n",
       "      <td>LEON FELIPE</td>\n",
       "      <td>right_only</td>\n",
       "    </tr>\n",
       "    <tr>\n",
       "      <th>18296</th>\n",
       "      <td>02</td>\n",
       "      <td>901</td>\n",
       "      <td>NaN</td>\n",
       "      <td>NaN</td>\n",
       "      <td>NaN</td>\n",
       "      <td>NaN</td>\n",
       "      <td>00087</td>\n",
       "      <td>NaN</td>\n",
       "      <td>NaN</td>\n",
       "      <td>NaN</td>\n",
       "      <td>CALLE</td>\n",
       "      <td>0</td>\n",
       "      <td>CAÑADA (DE LA)</td>\n",
       "      <td>CAÑADA (DE LA)</td>\n",
       "      <td>right_only</td>\n",
       "    </tr>\n",
       "  </tbody>\n",
       "</table>\n",
       "<p>2487 rows × 15 columns</p>\n",
       "</div>"
      ],
      "text/plain": [
       "      code province code commune code unité pop entité singulière code postal  \\\n",
       "1                02          001            NaN               NaN         NaN   \n",
       "31               02          001            NaN               NaN         NaN   \n",
       "66               02          001            NaN               NaN         NaN   \n",
       "79               02          001            NaN               NaN         NaN   \n",
       "81               02          002            NaN               NaN         NaN   \n",
       "...             ...          ...            ...               ...         ...   \n",
       "18272            02          901            NaN               NaN         NaN   \n",
       "18279            02          901            NaN               NaN         NaN   \n",
       "18293            02          901            NaN               NaN         NaN   \n",
       "18295            02          901            NaN               NaN         NaN   \n",
       "18296            02          901            NaN               NaN         NaN   \n",
       "\n",
       "      nom abrégé voie code voie type num début num fin num type de voie  \\\n",
       "1                 NaN     00009      NaN       NaN     NaN         CTRA   \n",
       "31                NaN     00168      NaN       NaN     NaN        CALLE   \n",
       "66                NaN     00341      NaN       NaN     NaN        CALLE   \n",
       "79                NaN     00363      NaN       NaN     NaN        CALLE   \n",
       "81                NaN     00022      NaN       NaN     NaN            .   \n",
       "...               ...       ...      ...       ...     ...          ...   \n",
       "18272             NaN     00067      NaN       NaN     NaN        CLLON   \n",
       "18279             NaN     00075      NaN       NaN     NaN        CALLE   \n",
       "18293             NaN     00084      NaN       NaN     NaN        CALLE   \n",
       "18295             NaN     00086      NaN       NaN     NaN        CALLE   \n",
       "18296             NaN     00087      NaN       NaN     NaN        CALLE   \n",
       "\n",
       "      pos type voie            nom de voie              nom court      _merge  \n",
       "1                 0  CARRETERA DE JORQUERA  CARRETERA DE JORQUERA  right_only  \n",
       "31                0             EXTRAMUROS             EXTRAMUROS  right_only  \n",
       "66                0                FRONTON                FRONTON  right_only  \n",
       "79                0               PONIENTE               PONIENTE  right_only  \n",
       "81                0             CEMENTERIO             CEMENTERIO  right_only  \n",
       "...             ...                    ...                    ...         ...  \n",
       "18272             0               TRASERAS               TRASERAS  right_only  \n",
       "18279             0             POZO BUENO             POZO BUENO  right_only  \n",
       "18293             0        ORTEGA Y GASSET        ORTEGA Y GASSET  right_only  \n",
       "18295             0            LEON FELIPE            LEON FELIPE  right_only  \n",
       "18296             0         CAÑADA (DE LA)         CAÑADA (DE LA)  right_only  \n",
       "\n",
       "[2487 rows x 15 columns]"
      ]
     },
     "execution_count": 253,
     "metadata": {},
     "output_type": "execute_result"
    }
   ],
   "source": [
    "# Filtrer les lignes qui ne sont présentes que dans l'un des DataFrames\n",
    "excluded_rows = outer_merged[outer_merged['_merge'] != 'both']\n",
    "excluded_rows"
   ]
  },
  {
   "cell_type": "code",
   "execution_count": 259,
   "id": "86497f25",
   "metadata": {},
   "outputs": [
    {
     "name": "stdout",
     "output_type": "stream",
     "text": [
      "lignes perdues: 2487 \n",
      "vias: 2035 \n",
      "adr: 452\n"
     ]
    }
   ],
   "source": [
    "print(\"lignes perdues:\", len(excluded_rows),\n",
    "      \"\\nvias:\", len(excluded_rows[excluded_rows[\"_merge\"]==\"right_only\"]), \n",
    "      \"\\nadr:\", len(excluded_rows[excluded_rows[\"_merge\"]==\"left_only\"]))"
   ]
  },
  {
   "cell_type": "code",
   "execution_count": 280,
   "id": "4a26cd32",
   "metadata": {},
   "outputs": [
    {
     "data": {
      "text/plain": [
       "8448"
      ]
     },
     "execution_count": 280,
     "metadata": {},
     "output_type": "execute_result"
    }
   ],
   "source": [
    "len(adr) - len(adr[adr.duplicated(subset=[\"code province\", \"code commune\", \"code voie\"])])"
   ]
  },
  {
   "cell_type": "code",
   "execution_count": 279,
   "id": "ba0785fb",
   "metadata": {},
   "outputs": [],
   "source": [
    "# (len(vias) - len(excluded_rows[excluded_rows[\"_merge\"]==\"right_only\"]))"
   ]
  },
  {
   "cell_type": "markdown",
   "id": "6d9f1575",
   "metadata": {},
   "source": [
    "exemple"
   ]
  },
  {
   "cell_type": "code",
   "execution_count": 218,
   "id": "a0d101b6",
   "metadata": {},
   "outputs": [
    {
     "data": {
      "text/html": [
       "<div>\n",
       "<style scoped>\n",
       "    .dataframe tbody tr th:only-of-type {\n",
       "        vertical-align: middle;\n",
       "    }\n",
       "\n",
       "    .dataframe tbody tr th {\n",
       "        vertical-align: top;\n",
       "    }\n",
       "\n",
       "    .dataframe thead th {\n",
       "        text-align: right;\n",
       "    }\n",
       "</style>\n",
       "<table border=\"1\" class=\"dataframe\">\n",
       "  <thead>\n",
       "    <tr style=\"text-align: right;\">\n",
       "      <th></th>\n",
       "      <th>code province</th>\n",
       "      <th>code commune</th>\n",
       "      <th>code unité pop</th>\n",
       "      <th>entité singulère</th>\n",
       "      <th>code postal</th>\n",
       "      <th>nom abrégé voie</th>\n",
       "      <th>code voie</th>\n",
       "      <th>type num</th>\n",
       "      <th>début num</th>\n",
       "      <th>fin num</th>\n",
       "    </tr>\n",
       "  </thead>\n",
       "  <tbody>\n",
       "  </tbody>\n",
       "</table>\n",
       "</div>"
      ],
      "text/plain": [
       "Empty DataFrame\n",
       "Columns: [code province, code commune, code unité pop, entité singulère, code postal, nom abrégé voie, code voie, type num, début num, fin num]\n",
       "Index: []"
      ]
     },
     "execution_count": 218,
     "metadata": {},
     "output_type": "execute_result"
    }
   ],
   "source": [
    "adr[(adr[\"code province\"]==\"01\") & (adr[\"code commune\"]==\"001\") & (adr[\"code voie\"]==\"01024\")]"
   ]
  },
  {
   "cell_type": "code",
   "execution_count": 219,
   "id": "ff0b48b0",
   "metadata": {},
   "outputs": [
    {
     "data": {
      "text/html": [
       "<div>\n",
       "<style scoped>\n",
       "    .dataframe tbody tr th:only-of-type {\n",
       "        vertical-align: middle;\n",
       "    }\n",
       "\n",
       "    .dataframe tbody tr th {\n",
       "        vertical-align: top;\n",
       "    }\n",
       "\n",
       "    .dataframe thead th {\n",
       "        text-align: right;\n",
       "    }\n",
       "</style>\n",
       "<table border=\"1\" class=\"dataframe\">\n",
       "  <thead>\n",
       "    <tr style=\"text-align: right;\">\n",
       "      <th></th>\n",
       "      <th>code province</th>\n",
       "      <th>code commune</th>\n",
       "      <th>code voie</th>\n",
       "      <th>type de voie</th>\n",
       "      <th>pos type voie</th>\n",
       "      <th>nom de voie</th>\n",
       "      <th>nom court</th>\n",
       "    </tr>\n",
       "  </thead>\n",
       "  <tbody>\n",
       "    <tr>\n",
       "      <th>23</th>\n",
       "      <td>01</td>\n",
       "      <td>001</td>\n",
       "      <td>01024</td>\n",
       "      <td>KALE</td>\n",
       "      <td>0</td>\n",
       "      <td>ANUNZARGARAI</td>\n",
       "      <td>ANUNZARGARAI</td>\n",
       "    </tr>\n",
       "  </tbody>\n",
       "</table>\n",
       "</div>"
      ],
      "text/plain": [
       "   code province code commune code voie type de voie pos type voie  \\\n",
       "23            01          001     01024         KALE             0   \n",
       "\n",
       "     nom de voie     nom court  \n",
       "23  ANUNZARGARAI  ANUNZARGARAI  "
      ]
     },
     "execution_count": 219,
     "metadata": {},
     "output_type": "execute_result"
    }
   ],
   "source": [
    "vias[(vias[\"code province\"]==\"01\") & (vias[\"code commune\"]==\"001\") & (vias[\"code voie\"]==\"01024\")]"
   ]
  },
  {
   "cell_type": "code",
   "execution_count": 45,
   "id": "cd695153",
   "metadata": {
    "collapsed": true
   },
   "outputs": [
    {
     "data": {
      "text/html": [
       "<div>\n",
       "<style scoped>\n",
       "    .dataframe tbody tr th:only-of-type {\n",
       "        vertical-align: middle;\n",
       "    }\n",
       "\n",
       "    .dataframe tbody tr th {\n",
       "        vertical-align: top;\n",
       "    }\n",
       "\n",
       "    .dataframe thead th {\n",
       "        text-align: right;\n",
       "    }\n",
       "</style>\n",
       "<table border=\"1\" class=\"dataframe\">\n",
       "  <thead>\n",
       "    <tr style=\"text-align: right;\">\n",
       "      <th></th>\n",
       "      <th>code province</th>\n",
       "      <th>code commune</th>\n",
       "      <th>code voie</th>\n",
       "      <th>type de voie</th>\n",
       "      <th>pos type voie</th>\n",
       "      <th>nom de voie</th>\n",
       "      <th>nom court</th>\n",
       "    </tr>\n",
       "  </thead>\n",
       "  <tbody>\n",
       "    <tr>\n",
       "      <th>0</th>\n",
       "      <td>01</td>\n",
       "      <td>001</td>\n",
       "      <td>01001</td>\n",
       "      <td>KALE</td>\n",
       "      <td>0</td>\n",
       "      <td>TORRONDOA</td>\n",
       "      <td>TORRONDOA</td>\n",
       "    </tr>\n",
       "    <tr>\n",
       "      <th>185</th>\n",
       "      <td>01</td>\n",
       "      <td>004</td>\n",
       "      <td>01001</td>\n",
       "      <td>CALLE</td>\n",
       "      <td>0</td>\n",
       "      <td>GOIENKALE</td>\n",
       "      <td>GOIENKALE</td>\n",
       "    </tr>\n",
       "    <tr>\n",
       "      <th>823</th>\n",
       "      <td>01</td>\n",
       "      <td>018</td>\n",
       "      <td>01001</td>\n",
       "      <td>CALLE</td>\n",
       "      <td>0</td>\n",
       "      <td>GOROSTIZA</td>\n",
       "      <td>GOROSTIZA</td>\n",
       "    </tr>\n",
       "    <tr>\n",
       "      <th>941</th>\n",
       "      <td>01</td>\n",
       "      <td>019</td>\n",
       "      <td>01001</td>\n",
       "      <td>CALLE</td>\n",
       "      <td>0</td>\n",
       "      <td>SAN MARTIN</td>\n",
       "      <td>SAN MARTIN</td>\n",
       "    </tr>\n",
       "    <tr>\n",
       "      <th>1641</th>\n",
       "      <td>01</td>\n",
       "      <td>042</td>\n",
       "      <td>01001</td>\n",
       "      <td>BARRO</td>\n",
       "      <td>0</td>\n",
       "      <td>IRABIEN</td>\n",
       "      <td>IRABIEN</td>\n",
       "    </tr>\n",
       "  </tbody>\n",
       "</table>\n",
       "</div>"
      ],
      "text/plain": [
       "     code province code commune code voie type de voie pos type voie  \\\n",
       "0               01          001     01001         KALE             0   \n",
       "185             01          004     01001        CALLE             0   \n",
       "823             01          018     01001        CALLE             0   \n",
       "941             01          019     01001        CALLE             0   \n",
       "1641            01          042     01001        BARRO             0   \n",
       "\n",
       "     nom de voie   nom court  \n",
       "0      TORRONDOA   TORRONDOA  \n",
       "185    GOIENKALE   GOIENKALE  \n",
       "823    GOROSTIZA   GOROSTIZA  \n",
       "941   SAN MARTIN  SAN MARTIN  \n",
       "1641     IRABIEN     IRABIEN  "
      ]
     },
     "execution_count": 45,
     "metadata": {},
     "output_type": "execute_result"
    }
   ],
   "source": [
    "vias[vias[\"code voie\"]==\"01001\"].head()"
   ]
  },
  {
   "cell_type": "code",
   "execution_count": 53,
   "id": "0a9bc46b",
   "metadata": {
    "collapsed": true
   },
   "outputs": [
    {
     "data": {
      "text/html": [
       "<div>\n",
       "<style scoped>\n",
       "    .dataframe tbody tr th:only-of-type {\n",
       "        vertical-align: middle;\n",
       "    }\n",
       "\n",
       "    .dataframe tbody tr th {\n",
       "        vertical-align: top;\n",
       "    }\n",
       "\n",
       "    .dataframe thead th {\n",
       "        text-align: right;\n",
       "    }\n",
       "</style>\n",
       "<table border=\"1\" class=\"dataframe\">\n",
       "  <thead>\n",
       "    <tr style=\"text-align: right;\">\n",
       "      <th></th>\n",
       "      <th>code voie</th>\n",
       "      <th>code commune</th>\n",
       "    </tr>\n",
       "  </thead>\n",
       "  <tbody>\n",
       "    <tr>\n",
       "      <th>0</th>\n",
       "      <td>01001</td>\n",
       "      <td>001</td>\n",
       "    </tr>\n",
       "    <tr>\n",
       "      <th>1</th>\n",
       "      <td>01002</td>\n",
       "      <td>001</td>\n",
       "    </tr>\n",
       "    <tr>\n",
       "      <th>2</th>\n",
       "      <td>01003</td>\n",
       "      <td>001</td>\n",
       "    </tr>\n",
       "    <tr>\n",
       "      <th>3</th>\n",
       "      <td>01004</td>\n",
       "      <td>001</td>\n",
       "    </tr>\n",
       "    <tr>\n",
       "      <th>4</th>\n",
       "      <td>01005</td>\n",
       "      <td>001</td>\n",
       "    </tr>\n",
       "  </tbody>\n",
       "</table>\n",
       "</div>"
      ],
      "text/plain": [
       "  code voie code commune\n",
       "0     01001          001\n",
       "1     01002          001\n",
       "2     01003          001\n",
       "3     01004          001\n",
       "4     01005          001"
      ]
     },
     "execution_count": 53,
     "metadata": {},
     "output_type": "execute_result"
    }
   ],
   "source": [
    "vias.loc[:,[\"code voie\", \"code commune\"]].head()"
   ]
  },
  {
   "cell_type": "markdown",
   "id": "4e036934",
   "metadata": {},
   "source": [
    "Objectif : enrichir adr avec les \"types de voie\" de vias  \n",
    "adr ne doit pas perdre d'information"
   ]
  },
  {
   "cell_type": "markdown",
   "id": "61e5c11a",
   "metadata": {},
   "source": [
    "## Clé primaire"
   ]
  },
  {
   "cell_type": "markdown",
   "id": "dbdbe73d",
   "metadata": {},
   "source": [
    "Recherche d'une clé primaire pour joindre les dataframes adr et vias"
   ]
  },
  {
   "cell_type": "markdown",
   "id": "cc126725",
   "metadata": {},
   "source": [
    "Est-ce que le set d'attributs est une clé primaire?"
   ]
  },
  {
   "cell_type": "code",
   "execution_count": 146,
   "id": "6e31f5ff",
   "metadata": {},
   "outputs": [
    {
     "data": {
      "text/plain": [
       "False"
      ]
     },
     "execution_count": 146,
     "metadata": {},
     "output_type": "execute_result"
    }
   ],
   "source": [
    "not adr[[\"code province\", \"code commune\", \"code voie\"]].duplicated().any()"
   ]
  },
  {
   "cell_type": "code",
   "execution_count": 178,
   "id": "50c601b9",
   "metadata": {},
   "outputs": [
    {
     "data": {
      "text/plain": [
       "False"
      ]
     },
     "execution_count": 178,
     "metadata": {},
     "output_type": "execute_result"
    }
   ],
   "source": [
    "not adr[[\"code province\", \"code commune\", \"code voie\", \"type num\"]][:1000].duplicated().any()"
   ]
  },
  {
   "cell_type": "code",
   "execution_count": 262,
   "id": "99cd37f4",
   "metadata": {},
   "outputs": [
    {
     "data": {
      "text/plain": [
       "True"
      ]
     },
     "execution_count": 262,
     "metadata": {},
     "output_type": "execute_result"
    }
   ],
   "source": [
    "not vias[[\"code province\", \"code commune\", \"code voie\", \"type de voie\"]].duplicated().any()"
   ]
  },
  {
   "cell_type": "markdown",
   "id": "ef9e85e0",
   "metadata": {},
   "source": [
    "Affiche toutes les lignes qui sont des duplicats d'autres lignes sur les attributs spécifiés"
   ]
  },
  {
   "cell_type": "code",
   "execution_count": 264,
   "id": "0e4ed99e",
   "metadata": {},
   "outputs": [
    {
     "data": {
      "text/plain": [
       "7820"
      ]
     },
     "execution_count": 264,
     "metadata": {},
     "output_type": "execute_result"
    }
   ],
   "source": [
    "len(adr[adr.duplicated(subset=[\"code province\", \"code commune\", \"code voie\"])])"
   ]
  },
  {
   "cell_type": "code",
   "execution_count": null,
   "id": "7f1de8e1",
   "metadata": {},
   "outputs": [],
   "source": [
    "adr[\n",
    "    (adr[\"code province\"]==\"01\") \n",
    "    & (adr[\"code commune\"]==\"002\") \n",
    "    & (adr[\"code voie\"]==\"00090\") \n",
    "#     & (adr[\"type num\"]==\"1\")\n",
    "   ]"
   ]
  },
  {
   "cell_type": "markdown",
   "id": "a04f360c",
   "metadata": {},
   "source": [
    "exemple gpt"
   ]
  },
  {
   "cell_type": "code",
   "execution_count": 224,
   "id": "934dbb8e",
   "metadata": {
    "collapsed": true
   },
   "outputs": [
    {
     "data": {
      "text/html": [
       "<div>\n",
       "<style scoped>\n",
       "    .dataframe tbody tr th:only-of-type {\n",
       "        vertical-align: middle;\n",
       "    }\n",
       "\n",
       "    .dataframe tbody tr th {\n",
       "        vertical-align: top;\n",
       "    }\n",
       "\n",
       "    .dataframe thead th {\n",
       "        text-align: right;\n",
       "    }\n",
       "</style>\n",
       "<table border=\"1\" class=\"dataframe\">\n",
       "  <thead>\n",
       "    <tr style=\"text-align: right;\">\n",
       "      <th></th>\n",
       "      <th>key</th>\n",
       "      <th>val1</th>\n",
       "    </tr>\n",
       "  </thead>\n",
       "  <tbody>\n",
       "    <tr>\n",
       "      <th>0</th>\n",
       "      <td>1</td>\n",
       "      <td>A</td>\n",
       "    </tr>\n",
       "    <tr>\n",
       "      <th>1</th>\n",
       "      <td>2</td>\n",
       "      <td>B</td>\n",
       "    </tr>\n",
       "    <tr>\n",
       "      <th>2</th>\n",
       "      <td>3</td>\n",
       "      <td>C</td>\n",
       "    </tr>\n",
       "  </tbody>\n",
       "</table>\n",
       "</div>"
      ],
      "text/plain": [
       "   key val1\n",
       "0    1    A\n",
       "1    2    B\n",
       "2    3    C"
      ]
     },
     "execution_count": 224,
     "metadata": {},
     "output_type": "execute_result"
    }
   ],
   "source": [
    "df1 = pd.DataFrame({'key': [1, 2, 3], 'val1': ['A', 'B', 'C']})\n",
    "df1"
   ]
  },
  {
   "cell_type": "code",
   "execution_count": 225,
   "id": "a9cd75c0",
   "metadata": {
    "collapsed": true
   },
   "outputs": [
    {
     "data": {
      "text/html": [
       "<div>\n",
       "<style scoped>\n",
       "    .dataframe tbody tr th:only-of-type {\n",
       "        vertical-align: middle;\n",
       "    }\n",
       "\n",
       "    .dataframe tbody tr th {\n",
       "        vertical-align: top;\n",
       "    }\n",
       "\n",
       "    .dataframe thead th {\n",
       "        text-align: right;\n",
       "    }\n",
       "</style>\n",
       "<table border=\"1\" class=\"dataframe\">\n",
       "  <thead>\n",
       "    <tr style=\"text-align: right;\">\n",
       "      <th></th>\n",
       "      <th>key</th>\n",
       "      <th>val2</th>\n",
       "    </tr>\n",
       "  </thead>\n",
       "  <tbody>\n",
       "    <tr>\n",
       "      <th>0</th>\n",
       "      <td>2</td>\n",
       "      <td>X</td>\n",
       "    </tr>\n",
       "    <tr>\n",
       "      <th>1</th>\n",
       "      <td>3</td>\n",
       "      <td>Y</td>\n",
       "    </tr>\n",
       "    <tr>\n",
       "      <th>2</th>\n",
       "      <td>4</td>\n",
       "      <td>Z</td>\n",
       "    </tr>\n",
       "  </tbody>\n",
       "</table>\n",
       "</div>"
      ],
      "text/plain": [
       "   key val2\n",
       "0    2    X\n",
       "1    3    Y\n",
       "2    4    Z"
      ]
     },
     "execution_count": 225,
     "metadata": {},
     "output_type": "execute_result"
    }
   ],
   "source": [
    "df2 = pd.DataFrame({'key': [2, 3, 4], 'val2': ['X', 'Y', 'Z']})\n",
    "df2"
   ]
  },
  {
   "cell_type": "code",
   "execution_count": 226,
   "id": "1500df3f",
   "metadata": {
    "collapsed": true
   },
   "outputs": [
    {
     "data": {
      "text/html": [
       "<div>\n",
       "<style scoped>\n",
       "    .dataframe tbody tr th:only-of-type {\n",
       "        vertical-align: middle;\n",
       "    }\n",
       "\n",
       "    .dataframe tbody tr th {\n",
       "        vertical-align: top;\n",
       "    }\n",
       "\n",
       "    .dataframe thead th {\n",
       "        text-align: right;\n",
       "    }\n",
       "</style>\n",
       "<table border=\"1\" class=\"dataframe\">\n",
       "  <thead>\n",
       "    <tr style=\"text-align: right;\">\n",
       "      <th></th>\n",
       "      <th>key</th>\n",
       "      <th>val1</th>\n",
       "      <th>val2</th>\n",
       "    </tr>\n",
       "  </thead>\n",
       "  <tbody>\n",
       "    <tr>\n",
       "      <th>0</th>\n",
       "      <td>2</td>\n",
       "      <td>B</td>\n",
       "      <td>X</td>\n",
       "    </tr>\n",
       "    <tr>\n",
       "      <th>1</th>\n",
       "      <td>3</td>\n",
       "      <td>C</td>\n",
       "      <td>Y</td>\n",
       "    </tr>\n",
       "  </tbody>\n",
       "</table>\n",
       "</div>"
      ],
      "text/plain": [
       "   key val1 val2\n",
       "0    2    B    X\n",
       "1    3    C    Y"
      ]
     },
     "execution_count": 226,
     "metadata": {},
     "output_type": "execute_result"
    }
   ],
   "source": [
    "pd.merge(df1, df2, on='key', how='inner')\n",
    "# merged_df ne contiendra que les lignes avec les clés 2 et 3, car 1 et 4 ne sont pas dans les deux DataFrames."
   ]
  },
  {
   "cell_type": "code",
   "execution_count": 211,
   "id": "573870dc",
   "metadata": {
    "collapsed": true
   },
   "outputs": [
    {
     "data": {
      "text/html": [
       "<div>\n",
       "<style scoped>\n",
       "    .dataframe tbody tr th:only-of-type {\n",
       "        vertical-align: middle;\n",
       "    }\n",
       "\n",
       "    .dataframe tbody tr th {\n",
       "        vertical-align: top;\n",
       "    }\n",
       "\n",
       "    .dataframe thead th {\n",
       "        text-align: right;\n",
       "    }\n",
       "</style>\n",
       "<table border=\"1\" class=\"dataframe\">\n",
       "  <thead>\n",
       "    <tr style=\"text-align: right;\">\n",
       "      <th></th>\n",
       "      <th>code province</th>\n",
       "      <th>code commune</th>\n",
       "      <th>code voie</th>\n",
       "      <th>type de voie</th>\n",
       "      <th>pos type voie</th>\n",
       "      <th>nom de voie</th>\n",
       "      <th>nom court</th>\n",
       "    </tr>\n",
       "  </thead>\n",
       "  <tbody>\n",
       "    <tr>\n",
       "      <th>4124</th>\n",
       "      <td>02</td>\n",
       "      <td>002</td>\n",
       "      <td>00075</td>\n",
       "      <td>.</td>\n",
       "      <td>0</td>\n",
       "      <td>ESTACION DE SERVICIO</td>\n",
       "      <td>ESTACION DE SERVICIO</td>\n",
       "    </tr>\n",
       "    <tr>\n",
       "      <th>4128</th>\n",
       "      <td>02</td>\n",
       "      <td>002</td>\n",
       "      <td>00090</td>\n",
       "      <td>.</td>\n",
       "      <td>0</td>\n",
       "      <td>GOBERNADORA (LA)</td>\n",
       "      <td>GOBERNADORA (LA)</td>\n",
       "    </tr>\n",
       "    <tr>\n",
       "      <th>4131</th>\n",
       "      <td>02</td>\n",
       "      <td>002</td>\n",
       "      <td>00115</td>\n",
       "      <td>.</td>\n",
       "      <td>0</td>\n",
       "      <td>PIEDRAS LISAS (LAS)</td>\n",
       "      <td>PIEDRAS LISAS (LAS)</td>\n",
       "    </tr>\n",
       "    <tr>\n",
       "      <th>4132</th>\n",
       "      <td>02</td>\n",
       "      <td>002</td>\n",
       "      <td>00120</td>\n",
       "      <td>.</td>\n",
       "      <td>0</td>\n",
       "      <td>TALLERES AYORA</td>\n",
       "      <td>TALLERES AYORA</td>\n",
       "    </tr>\n",
       "    <tr>\n",
       "      <th>4146</th>\n",
       "      <td>02</td>\n",
       "      <td>002</td>\n",
       "      <td>00265</td>\n",
       "      <td>CALLE</td>\n",
       "      <td>0</td>\n",
       "      <td>HIGUERAS (LAS)</td>\n",
       "      <td>HIGUERAS (LAS)</td>\n",
       "    </tr>\n",
       "    <tr>\n",
       "      <th>...</th>\n",
       "      <td>...</td>\n",
       "      <td>...</td>\n",
       "      <td>...</td>\n",
       "      <td>...</td>\n",
       "      <td>...</td>\n",
       "      <td>...</td>\n",
       "      <td>...</td>\n",
       "    </tr>\n",
       "    <tr>\n",
       "      <th>903576</th>\n",
       "      <td>52</td>\n",
       "      <td>001</td>\n",
       "      <td>04330</td>\n",
       "      <td>CALLE</td>\n",
       "      <td>0</td>\n",
       "      <td>PANAMA</td>\n",
       "      <td>PANAMA</td>\n",
       "    </tr>\n",
       "    <tr>\n",
       "      <th>903693</th>\n",
       "      <td>52</td>\n",
       "      <td>001</td>\n",
       "      <td>05080</td>\n",
       "      <td>CALLE</td>\n",
       "      <td>0</td>\n",
       "      <td>SAMANIEGO, TENIENTE</td>\n",
       "      <td>SAMANIEGO, TENIENTE</td>\n",
       "    </tr>\n",
       "    <tr>\n",
       "      <th>903814</th>\n",
       "      <td>52</td>\n",
       "      <td>001</td>\n",
       "      <td>06010</td>\n",
       "      <td>CALLE</td>\n",
       "      <td>0</td>\n",
       "      <td>ZAMORA</td>\n",
       "      <td>ZAMORA</td>\n",
       "    </tr>\n",
       "    <tr>\n",
       "      <th>903815</th>\n",
       "      <td>52</td>\n",
       "      <td>001</td>\n",
       "      <td>06015</td>\n",
       "      <td>LUGAR</td>\n",
       "      <td>0</td>\n",
       "      <td>ZAWIYA AL ALAWIYA</td>\n",
       "      <td>ZAWIYA AL ALAWIYA</td>\n",
       "    </tr>\n",
       "    <tr>\n",
       "      <th>903816</th>\n",
       "      <td>52</td>\n",
       "      <td>001</td>\n",
       "      <td>06020</td>\n",
       "      <td>PLAZA</td>\n",
       "      <td>0</td>\n",
       "      <td>ZOCO DEL POLIGONO</td>\n",
       "      <td>ZOCO DEL POLIGONO</td>\n",
       "    </tr>\n",
       "  </tbody>\n",
       "</table>\n",
       "<p>483987 rows × 7 columns</p>\n",
       "</div>"
      ],
      "text/plain": [
       "       code province code commune code voie type de voie pos type voie  \\\n",
       "4124              02          002     00075            .             0   \n",
       "4128              02          002     00090            .             0   \n",
       "4131              02          002     00115            .             0   \n",
       "4132              02          002     00120            .             0   \n",
       "4146              02          002     00265        CALLE             0   \n",
       "...              ...          ...       ...          ...           ...   \n",
       "903576            52          001     04330        CALLE             0   \n",
       "903693            52          001     05080        CALLE             0   \n",
       "903814            52          001     06010        CALLE             0   \n",
       "903815            52          001     06015        LUGAR             0   \n",
       "903816            52          001     06020        PLAZA             0   \n",
       "\n",
       "                 nom de voie             nom court  \n",
       "4124    ESTACION DE SERVICIO  ESTACION DE SERVICIO  \n",
       "4128        GOBERNADORA (LA)      GOBERNADORA (LA)  \n",
       "4131     PIEDRAS LISAS (LAS)   PIEDRAS LISAS (LAS)  \n",
       "4132          TALLERES AYORA        TALLERES AYORA  \n",
       "4146          HIGUERAS (LAS)        HIGUERAS (LAS)  \n",
       "...                      ...                   ...  \n",
       "903576                PANAMA                PANAMA  \n",
       "903693   SAMANIEGO, TENIENTE   SAMANIEGO, TENIENTE  \n",
       "903814                ZAMORA                ZAMORA  \n",
       "903815     ZAWIYA AL ALAWIYA     ZAWIYA AL ALAWIYA  \n",
       "903816     ZOCO DEL POLIGONO     ZOCO DEL POLIGONO  \n",
       "\n",
       "[483987 rows x 7 columns]"
      ]
     },
     "execution_count": 211,
     "metadata": {},
     "output_type": "execute_result"
    }
   ],
   "source": [
    "vias[vias.duplicated(subset=[\"code voie\", \"code commune\"])]"
   ]
  },
  {
   "cell_type": "markdown",
   "id": "741bf33a",
   "metadata": {},
   "source": [
    "Affiche les lignes qui ont des valeurs spécifiques à des attributs spécifiques"
   ]
  },
  {
   "cell_type": "code",
   "execution_count": 189,
   "id": "81105b74",
   "metadata": {
    "collapsed": true
   },
   "outputs": [
    {
     "data": {
      "text/html": [
       "<div>\n",
       "<style scoped>\n",
       "    .dataframe tbody tr th:only-of-type {\n",
       "        vertical-align: middle;\n",
       "    }\n",
       "\n",
       "    .dataframe tbody tr th {\n",
       "        vertical-align: top;\n",
       "    }\n",
       "\n",
       "    .dataframe thead th {\n",
       "        text-align: right;\n",
       "    }\n",
       "</style>\n",
       "<table border=\"1\" class=\"dataframe\">\n",
       "  <thead>\n",
       "    <tr style=\"text-align: right;\">\n",
       "      <th></th>\n",
       "      <th>code province</th>\n",
       "      <th>code commune</th>\n",
       "      <th>code voie</th>\n",
       "      <th>type de voie</th>\n",
       "      <th>pos type voie</th>\n",
       "      <th>nom de voie</th>\n",
       "      <th>nom court</th>\n",
       "    </tr>\n",
       "  </thead>\n",
       "  <tbody>\n",
       "    <tr>\n",
       "      <th>84</th>\n",
       "      <td>01</td>\n",
       "      <td>002</td>\n",
       "      <td>00075</td>\n",
       "      <td>CALLE</td>\n",
       "      <td>0</td>\n",
       "      <td>BORIÑAUR KALEA</td>\n",
       "      <td>BORIÑAUR KALEA</td>\n",
       "    </tr>\n",
       "    <tr>\n",
       "      <th>4124</th>\n",
       "      <td>02</td>\n",
       "      <td>002</td>\n",
       "      <td>00075</td>\n",
       "      <td>.</td>\n",
       "      <td>0</td>\n",
       "      <td>ESTACION DE SERVICIO</td>\n",
       "      <td>ESTACION DE SERVICIO</td>\n",
       "    </tr>\n",
       "    <tr>\n",
       "      <th>81684</th>\n",
       "      <td>06</td>\n",
       "      <td>002</td>\n",
       "      <td>00075</td>\n",
       "      <td>CALLE</td>\n",
       "      <td>0</td>\n",
       "      <td>PINO</td>\n",
       "      <td>PINO</td>\n",
       "    </tr>\n",
       "    <tr>\n",
       "      <th>119623</th>\n",
       "      <td>08</td>\n",
       "      <td>002</td>\n",
       "      <td>00075</td>\n",
       "      <td>.</td>\n",
       "      <td>0</td>\n",
       "      <td>CAN VILA</td>\n",
       "      <td>CAN VILA</td>\n",
       "    </tr>\n",
       "    <tr>\n",
       "      <th>274667</th>\n",
       "      <td>14</td>\n",
       "      <td>002</td>\n",
       "      <td>00075</td>\n",
       "      <td>CALLE</td>\n",
       "      <td>0</td>\n",
       "      <td>JARA (LA)</td>\n",
       "      <td>JARA (LA)</td>\n",
       "    </tr>\n",
       "    <tr>\n",
       "      <th>290941</th>\n",
       "      <td>15</td>\n",
       "      <td>002</td>\n",
       "      <td>00075</td>\n",
       "      <td>RUA</td>\n",
       "      <td>0</td>\n",
       "      <td>PALMEIRAS (DAS)</td>\n",
       "      <td>PALMEIRAS (DAS)</td>\n",
       "    </tr>\n",
       "    <tr>\n",
       "      <th>556606</th>\n",
       "      <td>30</td>\n",
       "      <td>002</td>\n",
       "      <td>00075</td>\n",
       "      <td>PLAZA</td>\n",
       "      <td>0</td>\n",
       "      <td>ARANAGA Y GOROSTIZA</td>\n",
       "      <td>ARANAGA Y GOROSTIZA</td>\n",
       "    </tr>\n",
       "    <tr>\n",
       "      <th>612713</th>\n",
       "      <td>33</td>\n",
       "      <td>002</td>\n",
       "      <td>00075</td>\n",
       "      <td>BARRO</td>\n",
       "      <td>0</td>\n",
       "      <td>SANTA BARBARA</td>\n",
       "      <td>SANTA BARBARA</td>\n",
       "    </tr>\n",
       "  </tbody>\n",
       "</table>\n",
       "</div>"
      ],
      "text/plain": [
       "       code province code commune code voie type de voie pos type voie  \\\n",
       "84                01          002     00075        CALLE             0   \n",
       "4124              02          002     00075            .             0   \n",
       "81684             06          002     00075        CALLE             0   \n",
       "119623            08          002     00075            .             0   \n",
       "274667            14          002     00075        CALLE             0   \n",
       "290941            15          002     00075          RUA             0   \n",
       "556606            30          002     00075        PLAZA             0   \n",
       "612713            33          002     00075        BARRO             0   \n",
       "\n",
       "                 nom de voie             nom court  \n",
       "84            BORIÑAUR KALEA        BORIÑAUR KALEA  \n",
       "4124    ESTACION DE SERVICIO  ESTACION DE SERVICIO  \n",
       "81684                   PINO                  PINO  \n",
       "119623              CAN VILA              CAN VILA  \n",
       "274667             JARA (LA)             JARA (LA)  \n",
       "290941       PALMEIRAS (DAS)       PALMEIRAS (DAS)  \n",
       "556606   ARANAGA Y GOROSTIZA   ARANAGA Y GOROSTIZA  \n",
       "612713         SANTA BARBARA         SANTA BARBARA  "
      ]
     },
     "execution_count": 189,
     "metadata": {},
     "output_type": "execute_result"
    }
   ],
   "source": [
    "vias[(vias[\"code voie\"]==\"00075\") & (vias[\"code commune\"]==\"002\")]"
   ]
  },
  {
   "cell_type": "markdown",
   "id": "c20f8e83",
   "metadata": {},
   "source": [
    "### Data prep (spacy)"
   ]
  },
  {
   "cell_type": "code",
   "execution_count": 41,
   "id": "f29b1923",
   "metadata": {},
   "outputs": [],
   "source": [
    "def get_token_labels(raw_adress, raw_labels):\n",
    "    \n",
    "    # preparation\n",
    "    token_labels = []\n",
    "    labels = raw_labels.split()\n",
    "    \n",
    "    # iteration over adress parts\n",
    "    for i, elt in enumerate(raw_adress.split(\"<>\")):\n",
    "        nb_words = len(elt.split())\n",
    "        \n",
    "        # adding right labels for each word\n",
    "        for _ in range(nb_words):\n",
    "            token_labels.append(labels[i])\n",
    "            \n",
    "    return token_labels"
   ]
  },
  {
   "cell_type": "code",
   "execution_count": 42,
   "id": "3e2cd8a8",
   "metadata": {
    "scrolled": true
   },
   "outputs": [
    {
     "data": {
      "text/plain": [
       "['num', 'rue', 'rue', 'cp', 'ville']"
      ]
     },
     "execution_count": 42,
     "metadata": {},
     "output_type": "execute_result"
    }
   ],
   "source": [
    "get_token_labels(corpus_adr.iloc[3], corpus_lab.iloc[3])"
   ]
  },
  {
   "cell_type": "code",
   "execution_count": 43,
   "id": "753063c8",
   "metadata": {},
   "outputs": [],
   "source": [
    "def get_token_boundaries(raw_adress):\n",
    "    adress = raw_adress.replace(\"<>\", \" \")\n",
    "    left_bound = 0\n",
    "    boundaries = []\n",
    "    for i in range(len(adress)):\n",
    "        if adress[i]==\" \":\n",
    "            boundaries.append([left_bound, i])\n",
    "            left_bound = i+1\n",
    "    boundaries.append([left_bound, len(adress)])\n",
    "    return boundaries"
   ]
  },
  {
   "cell_type": "code",
   "execution_count": 44,
   "id": "99b7ccc0",
   "metadata": {},
   "outputs": [
    {
     "data": {
      "text/plain": [
       "[[0, 2], [3, 8], [9, 17], [18, 23], [24, 30]]"
      ]
     },
     "execution_count": 44,
     "metadata": {},
     "output_type": "execute_result"
    }
   ],
   "source": [
    "get_token_boundaries(corpus_adr.iloc[3])"
   ]
  },
  {
   "cell_type": "markdown",
   "id": "393ce42f",
   "metadata": {},
   "source": [
    "### Types de voies"
   ]
  },
  {
   "cell_type": "code",
   "execution_count": 205,
   "id": "790ccf11",
   "metadata": {},
   "outputs": [],
   "source": [
    "cols_tipos_i = [(0,5), (5,10), (10,35)]"
   ]
  },
  {
   "cell_type": "code",
   "execution_count": 206,
   "id": "234604af",
   "metadata": {},
   "outputs": [],
   "source": [
    "tipos = pd.read_fwf(r\"C:\\Users\\vrivi\\Downloads\\TipoVias\", \n",
    "                 colspecs=cols_tipos_i, header=None, encoding='ISO-8859-1', dtype=str)"
   ]
  },
  {
   "cell_type": "code",
   "execution_count": 207,
   "id": "86e50c7e",
   "metadata": {},
   "outputs": [
    {
     "data": {
      "text/html": [
       "<div>\n",
       "<style scoped>\n",
       "    .dataframe tbody tr th:only-of-type {\n",
       "        vertical-align: middle;\n",
       "    }\n",
       "\n",
       "    .dataframe tbody tr th {\n",
       "        vertical-align: top;\n",
       "    }\n",
       "\n",
       "    .dataframe thead th {\n",
       "        text-align: right;\n",
       "    }\n",
       "</style>\n",
       "<table border=\"1\" class=\"dataframe\">\n",
       "  <thead>\n",
       "    <tr style=\"text-align: right;\">\n",
       "      <th></th>\n",
       "      <th>0</th>\n",
       "      <th>1</th>\n",
       "      <th>2</th>\n",
       "    </tr>\n",
       "  </thead>\n",
       "  <tbody>\n",
       "    <tr>\n",
       "      <th>0</th>\n",
       "      <td>ACCE</td>\n",
       "      <td>ACCE</td>\n",
       "      <td>ACCES</td>\n",
       "    </tr>\n",
       "    <tr>\n",
       "      <th>1</th>\n",
       "      <td>ACCE</td>\n",
       "      <td>ACCES</td>\n",
       "      <td>ACCES</td>\n",
       "    </tr>\n",
       "    <tr>\n",
       "      <th>2</th>\n",
       "      <td>ACCE</td>\n",
       "      <td>SARBI</td>\n",
       "      <td>ACCES</td>\n",
       "    </tr>\n",
       "    <tr>\n",
       "      <th>3</th>\n",
       "      <td>ACCES</td>\n",
       "      <td>ACCE</td>\n",
       "      <td>ACCESO</td>\n",
       "    </tr>\n",
       "    <tr>\n",
       "      <th>4</th>\n",
       "      <td>ACCES</td>\n",
       "      <td>ACCES</td>\n",
       "      <td>ACCESO</td>\n",
       "    </tr>\n",
       "  </tbody>\n",
       "</table>\n",
       "</div>"
      ],
      "text/plain": [
       "       0      1       2\n",
       "0   ACCE   ACCE   ACCES\n",
       "1   ACCE  ACCES   ACCES\n",
       "2   ACCE  SARBI   ACCES\n",
       "3  ACCES   ACCE  ACCESO\n",
       "4  ACCES  ACCES  ACCESO"
      ]
     },
     "execution_count": 207,
     "metadata": {},
     "output_type": "execute_result"
    }
   ],
   "source": [
    "tipos.head()"
   ]
  },
  {
   "cell_type": "code",
   "execution_count": 208,
   "id": "89dd2ea9",
   "metadata": {},
   "outputs": [
    {
     "data": {
      "text/plain": [
       "632"
      ]
     },
     "execution_count": 208,
     "metadata": {},
     "output_type": "execute_result"
    }
   ],
   "source": [
    "len(tipos)"
   ]
  },
  {
   "cell_type": "code",
   "execution_count": 219,
   "id": "ef74e25e",
   "metadata": {},
   "outputs": [
    {
     "data": {
      "text/plain": [
       "2\n",
       "3      13\n",
       "4      52\n",
       "5     118\n",
       "6     126\n",
       "7     120\n",
       "8     102\n",
       "9      43\n",
       "10     35\n",
       "11      9\n",
       "12     10\n",
       "13      3\n",
       "15      1\n",
       "Name: count, dtype: int64"
      ]
     },
     "execution_count": 219,
     "metadata": {},
     "output_type": "execute_result"
    }
   ],
   "source": [
    "tipos[2].str.len().value_counts().sort_index()"
   ]
  },
  {
   "cell_type": "code",
   "execution_count": 225,
   "id": "38d4f4e5",
   "metadata": {},
   "outputs": [
    {
     "data": {
      "text/plain": [
       "95     BARREDUELA\n",
       "107    CMNO HONDO\n",
       "108    CMNO NUEVO\n",
       "109    CMNO VIEJO\n",
       "135    OCANTIÃO\n",
       "Name: 2, dtype: object"
      ]
     },
     "execution_count": 225,
     "metadata": {},
     "output_type": "execute_result"
    }
   ],
   "source": [
    "tipos[2][tipos[2].str.len()==10][:5]"
   ]
  },
  {
   "cell_type": "code",
   "execution_count": 214,
   "id": "c66f009f",
   "metadata": {},
   "outputs": [
    {
     "data": {
      "text/plain": [
       "6.738924050632911"
      ]
     },
     "execution_count": 214,
     "metadata": {},
     "output_type": "execute_result"
    }
   ],
   "source": [
    "tipos[2].str.len().mean()"
   ]
  },
  {
   "cell_type": "code",
   "execution_count": null,
   "id": "ac0ae5f3",
   "metadata": {},
   "outputs": [],
   "source": [
    "adr_m_vias.head()"
   ]
  }
 ],
 "metadata": {
  "kernelspec": {
   "display_name": "uc",
   "language": "python",
   "name": "uc"
  },
  "language_info": {
   "codemirror_mode": {
    "name": "ipython",
    "version": 3
   },
   "file_extension": ".py",
   "mimetype": "text/x-python",
   "name": "python",
   "nbconvert_exporter": "python",
   "pygments_lexer": "ipython3",
   "version": "3.12.7"
  }
 },
 "nbformat": 4,
 "nbformat_minor": 5
}
